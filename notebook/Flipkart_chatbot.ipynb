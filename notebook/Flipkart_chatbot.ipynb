{
 "cells": [
  {
   "cell_type": "code",
   "execution_count": null,
   "metadata": {
    "id": "tNr5EszOubfr"
   },
   "outputs": [],
   "source": [
    "import pandas as pd"
   ]
  },
  {
   "cell_type": "code",
   "execution_count": null,
   "metadata": {
    "colab": {
     "base_uri": "https://localhost:8080/"
    },
    "executionInfo": {
     "elapsed": 1931,
     "status": "ok",
     "timestamp": 1749063448598,
     "user": {
      "displayName": "abdul azizakash",
      "userId": "06305379687843862792"
     },
     "user_tz": -360
    },
    "id": "KYgEKIQXAWdk",
    "outputId": "0470062a-eaf8-437f-83e1-318861eeeb75"
   },
   "outputs": [
    {
     "name": "stdout",
     "output_type": "stream",
     "text": [
      "Drive already mounted at /content/drive; to attempt to forcibly remount, call drive.mount(\"/content/drive\", force_remount=True).\n"
     ]
    }
   ],
   "source": [
    "from google.colab import drive\n",
    "drive.mount('/content/drive')"
   ]
  },
  {
   "cell_type": "code",
   "execution_count": null,
   "metadata": {
    "colab": {
     "base_uri": "https://localhost:8080/",
     "height": 293
    },
    "executionInfo": {
     "elapsed": 85,
     "status": "ok",
     "timestamp": 1749063450621,
     "user": {
      "displayName": "abdul azizakash",
      "userId": "06305379687843862792"
     },
     "user_tz": -360
    },
    "id": "BUkRV-HCznfU",
    "outputId": "bc948607-37cb-44d2-9549-65b1a161f8b3"
   },
   "outputs": [
    {
     "data": {
      "application/vnd.google.colaboratory.intrinsic+json": {
       "summary": "{\n  \"name\": \"data\",\n  \"rows\": 450,\n  \"fields\": [\n    {\n      \"column\": \"product_id\",\n      \"properties\": {\n        \"dtype\": \"category\",\n        \"num_unique_values\": 9,\n        \"samples\": [\n          \"ACCFSDGXX3S6DVBG\",\n          \"ACCFHGZFS7GB9CVM\",\n          \"ACCFVWN4PGNTEFGY\"\n        ],\n        \"semantic_type\": \"\",\n        \"description\": \"\"\n      }\n    },\n    {\n      \"column\": \"product_title\",\n      \"properties\": {\n        \"dtype\": \"category\",\n        \"num_unique_values\": 9,\n        \"samples\": [\n          \"BoAt Airdopes 131 Bluetooth Headset\",\n          \"realme Buds Wireless Bluetooth Headset\",\n          \"realme Buds Q Bluetooth Headset\"\n        ],\n        \"semantic_type\": \"\",\n        \"description\": \"\"\n      }\n    },\n    {\n      \"column\": \"rating\",\n      \"properties\": {\n        \"dtype\": \"number\",\n        \"std\": 1,\n        \"min\": 1,\n        \"max\": 5,\n        \"num_unique_values\": 5,\n        \"samples\": [\n          4,\n          2,\n          1\n        ],\n        \"semantic_type\": \"\",\n        \"description\": \"\"\n      }\n    },\n    {\n      \"column\": \"summary\",\n      \"properties\": {\n        \"dtype\": \"category\",\n        \"num_unique_values\": 50,\n        \"samples\": [\n          \"Awesome\",\n          \"Unsatisfactory\",\n          \"Good\"\n        ],\n        \"semantic_type\": \"\",\n        \"description\": \"\"\n      }\n    },\n    {\n      \"column\": \"review\",\n      \"properties\": {\n        \"dtype\": \"string\",\n        \"num_unique_values\": 449,\n        \"samples\": [\n          \"Good product.\",\n          \"Mindblowing productGood sound qualityBattery backup to goodBut calling issuesI am parches 1564/-rs\",\n          \"I have been using this product from couple months. This headset will absolutely not work for calls. The reason is, the build of Wireless Z will not get mic near our mouth. However, it works if you have absolute patience to hold the mic in front of your mouth for hours you talk or be in meetings. This headset is only nice for listening songs compromising on Bass ! Only good thing I found is battery backup... You keep charge, go drink tea and come back. It will do for the whole day. ...\"\n        ],\n        \"semantic_type\": \"\",\n        \"description\": \"\"\n      }\n    }\n  ]\n}",
       "type": "dataframe",
       "variable_name": "data"
      },
      "text/html": [
       "\n",
       "  <div id=\"df-0167acf4-b7f7-42e9-b25b-3204f385a1f5\" class=\"colab-df-container\">\n",
       "    <div>\n",
       "<style scoped>\n",
       "    .dataframe tbody tr th:only-of-type {\n",
       "        vertical-align: middle;\n",
       "    }\n",
       "\n",
       "    .dataframe tbody tr th {\n",
       "        vertical-align: top;\n",
       "    }\n",
       "\n",
       "    .dataframe thead th {\n",
       "        text-align: right;\n",
       "    }\n",
       "</style>\n",
       "<table border=\"1\" class=\"dataframe\">\n",
       "  <thead>\n",
       "    <tr style=\"text-align: right;\">\n",
       "      <th></th>\n",
       "      <th>product_id</th>\n",
       "      <th>product_title</th>\n",
       "      <th>rating</th>\n",
       "      <th>summary</th>\n",
       "      <th>review</th>\n",
       "    </tr>\n",
       "  </thead>\n",
       "  <tbody>\n",
       "    <tr>\n",
       "      <th>0</th>\n",
       "      <td>ACCFZGAQJGYCYDCM</td>\n",
       "      <td>BoAt Rockerz 235v2 with ASAP charging Version ...</td>\n",
       "      <td>5</td>\n",
       "      <td>Terrific purchase</td>\n",
       "      <td>1-more flexible2-bass is very high3-sound clar...</td>\n",
       "    </tr>\n",
       "    <tr>\n",
       "      <th>1</th>\n",
       "      <td>ACCFZGAQJGYCYDCM</td>\n",
       "      <td>BoAt Rockerz 235v2 with ASAP charging Version ...</td>\n",
       "      <td>5</td>\n",
       "      <td>Terrific purchase</td>\n",
       "      <td>Super sound and good looking I like that prize</td>\n",
       "    </tr>\n",
       "    <tr>\n",
       "      <th>2</th>\n",
       "      <td>ACCFZGAQJGYCYDCM</td>\n",
       "      <td>BoAt Rockerz 235v2 with ASAP charging Version ...</td>\n",
       "      <td>5</td>\n",
       "      <td>Super!</td>\n",
       "      <td>Very much satisfied with the device at this pr...</td>\n",
       "    </tr>\n",
       "    <tr>\n",
       "      <th>3</th>\n",
       "      <td>ACCFZGAQJGYCYDCM</td>\n",
       "      <td>BoAt Rockerz 235v2 with ASAP charging Version ...</td>\n",
       "      <td>5</td>\n",
       "      <td>Super!</td>\n",
       "      <td>Nice headphone, bass was very good and sound i...</td>\n",
       "    </tr>\n",
       "    <tr>\n",
       "      <th>4</th>\n",
       "      <td>ACCFZGAQJGYCYDCM</td>\n",
       "      <td>BoAt Rockerz 235v2 with ASAP charging Version ...</td>\n",
       "      <td>5</td>\n",
       "      <td>Terrific purchase</td>\n",
       "      <td>Sound quality super battery backup super quali...</td>\n",
       "    </tr>\n",
       "  </tbody>\n",
       "</table>\n",
       "</div>\n",
       "    <div class=\"colab-df-buttons\">\n",
       "\n",
       "  <div class=\"colab-df-container\">\n",
       "    <button class=\"colab-df-convert\" onclick=\"convertToInteractive('df-0167acf4-b7f7-42e9-b25b-3204f385a1f5')\"\n",
       "            title=\"Convert this dataframe to an interactive table.\"\n",
       "            style=\"display:none;\">\n",
       "\n",
       "  <svg xmlns=\"http://www.w3.org/2000/svg\" height=\"24px\" viewBox=\"0 -960 960 960\">\n",
       "    <path d=\"M120-120v-720h720v720H120Zm60-500h600v-160H180v160Zm220 220h160v-160H400v160Zm0 220h160v-160H400v160ZM180-400h160v-160H180v160Zm440 0h160v-160H620v160ZM180-180h160v-160H180v160Zm440 0h160v-160H620v160Z\"/>\n",
       "  </svg>\n",
       "    </button>\n",
       "\n",
       "  <style>\n",
       "    .colab-df-container {\n",
       "      display:flex;\n",
       "      gap: 12px;\n",
       "    }\n",
       "\n",
       "    .colab-df-convert {\n",
       "      background-color: #E8F0FE;\n",
       "      border: none;\n",
       "      border-radius: 50%;\n",
       "      cursor: pointer;\n",
       "      display: none;\n",
       "      fill: #1967D2;\n",
       "      height: 32px;\n",
       "      padding: 0 0 0 0;\n",
       "      width: 32px;\n",
       "    }\n",
       "\n",
       "    .colab-df-convert:hover {\n",
       "      background-color: #E2EBFA;\n",
       "      box-shadow: 0px 1px 2px rgba(60, 64, 67, 0.3), 0px 1px 3px 1px rgba(60, 64, 67, 0.15);\n",
       "      fill: #174EA6;\n",
       "    }\n",
       "\n",
       "    .colab-df-buttons div {\n",
       "      margin-bottom: 4px;\n",
       "    }\n",
       "\n",
       "    [theme=dark] .colab-df-convert {\n",
       "      background-color: #3B4455;\n",
       "      fill: #D2E3FC;\n",
       "    }\n",
       "\n",
       "    [theme=dark] .colab-df-convert:hover {\n",
       "      background-color: #434B5C;\n",
       "      box-shadow: 0px 1px 3px 1px rgba(0, 0, 0, 0.15);\n",
       "      filter: drop-shadow(0px 1px 2px rgba(0, 0, 0, 0.3));\n",
       "      fill: #FFFFFF;\n",
       "    }\n",
       "  </style>\n",
       "\n",
       "    <script>\n",
       "      const buttonEl =\n",
       "        document.querySelector('#df-0167acf4-b7f7-42e9-b25b-3204f385a1f5 button.colab-df-convert');\n",
       "      buttonEl.style.display =\n",
       "        google.colab.kernel.accessAllowed ? 'block' : 'none';\n",
       "\n",
       "      async function convertToInteractive(key) {\n",
       "        const element = document.querySelector('#df-0167acf4-b7f7-42e9-b25b-3204f385a1f5');\n",
       "        const dataTable =\n",
       "          await google.colab.kernel.invokeFunction('convertToInteractive',\n",
       "                                                    [key], {});\n",
       "        if (!dataTable) return;\n",
       "\n",
       "        const docLinkHtml = 'Like what you see? Visit the ' +\n",
       "          '<a target=\"_blank\" href=https://colab.research.google.com/notebooks/data_table.ipynb>data table notebook</a>'\n",
       "          + ' to learn more about interactive tables.';\n",
       "        element.innerHTML = '';\n",
       "        dataTable['output_type'] = 'display_data';\n",
       "        await google.colab.output.renderOutput(dataTable, element);\n",
       "        const docLink = document.createElement('div');\n",
       "        docLink.innerHTML = docLinkHtml;\n",
       "        element.appendChild(docLink);\n",
       "      }\n",
       "    </script>\n",
       "  </div>\n",
       "\n",
       "\n",
       "    <div id=\"df-ed47a915-b55f-4f9b-bc01-878c8f897aac\">\n",
       "      <button class=\"colab-df-quickchart\" onclick=\"quickchart('df-ed47a915-b55f-4f9b-bc01-878c8f897aac')\"\n",
       "                title=\"Suggest charts\"\n",
       "                style=\"display:none;\">\n",
       "\n",
       "<svg xmlns=\"http://www.w3.org/2000/svg\" height=\"24px\"viewBox=\"0 0 24 24\"\n",
       "     width=\"24px\">\n",
       "    <g>\n",
       "        <path d=\"M19 3H5c-1.1 0-2 .9-2 2v14c0 1.1.9 2 2 2h14c1.1 0 2-.9 2-2V5c0-1.1-.9-2-2-2zM9 17H7v-7h2v7zm4 0h-2V7h2v10zm4 0h-2v-4h2v4z\"/>\n",
       "    </g>\n",
       "</svg>\n",
       "      </button>\n",
       "\n",
       "<style>\n",
       "  .colab-df-quickchart {\n",
       "      --bg-color: #E8F0FE;\n",
       "      --fill-color: #1967D2;\n",
       "      --hover-bg-color: #E2EBFA;\n",
       "      --hover-fill-color: #174EA6;\n",
       "      --disabled-fill-color: #AAA;\n",
       "      --disabled-bg-color: #DDD;\n",
       "  }\n",
       "\n",
       "  [theme=dark] .colab-df-quickchart {\n",
       "      --bg-color: #3B4455;\n",
       "      --fill-color: #D2E3FC;\n",
       "      --hover-bg-color: #434B5C;\n",
       "      --hover-fill-color: #FFFFFF;\n",
       "      --disabled-bg-color: #3B4455;\n",
       "      --disabled-fill-color: #666;\n",
       "  }\n",
       "\n",
       "  .colab-df-quickchart {\n",
       "    background-color: var(--bg-color);\n",
       "    border: none;\n",
       "    border-radius: 50%;\n",
       "    cursor: pointer;\n",
       "    display: none;\n",
       "    fill: var(--fill-color);\n",
       "    height: 32px;\n",
       "    padding: 0;\n",
       "    width: 32px;\n",
       "  }\n",
       "\n",
       "  .colab-df-quickchart:hover {\n",
       "    background-color: var(--hover-bg-color);\n",
       "    box-shadow: 0 1px 2px rgba(60, 64, 67, 0.3), 0 1px 3px 1px rgba(60, 64, 67, 0.15);\n",
       "    fill: var(--button-hover-fill-color);\n",
       "  }\n",
       "\n",
       "  .colab-df-quickchart-complete:disabled,\n",
       "  .colab-df-quickchart-complete:disabled:hover {\n",
       "    background-color: var(--disabled-bg-color);\n",
       "    fill: var(--disabled-fill-color);\n",
       "    box-shadow: none;\n",
       "  }\n",
       "\n",
       "  .colab-df-spinner {\n",
       "    border: 2px solid var(--fill-color);\n",
       "    border-color: transparent;\n",
       "    border-bottom-color: var(--fill-color);\n",
       "    animation:\n",
       "      spin 1s steps(1) infinite;\n",
       "  }\n",
       "\n",
       "  @keyframes spin {\n",
       "    0% {\n",
       "      border-color: transparent;\n",
       "      border-bottom-color: var(--fill-color);\n",
       "      border-left-color: var(--fill-color);\n",
       "    }\n",
       "    20% {\n",
       "      border-color: transparent;\n",
       "      border-left-color: var(--fill-color);\n",
       "      border-top-color: var(--fill-color);\n",
       "    }\n",
       "    30% {\n",
       "      border-color: transparent;\n",
       "      border-left-color: var(--fill-color);\n",
       "      border-top-color: var(--fill-color);\n",
       "      border-right-color: var(--fill-color);\n",
       "    }\n",
       "    40% {\n",
       "      border-color: transparent;\n",
       "      border-right-color: var(--fill-color);\n",
       "      border-top-color: var(--fill-color);\n",
       "    }\n",
       "    60% {\n",
       "      border-color: transparent;\n",
       "      border-right-color: var(--fill-color);\n",
       "    }\n",
       "    80% {\n",
       "      border-color: transparent;\n",
       "      border-right-color: var(--fill-color);\n",
       "      border-bottom-color: var(--fill-color);\n",
       "    }\n",
       "    90% {\n",
       "      border-color: transparent;\n",
       "      border-bottom-color: var(--fill-color);\n",
       "    }\n",
       "  }\n",
       "</style>\n",
       "\n",
       "      <script>\n",
       "        async function quickchart(key) {\n",
       "          const quickchartButtonEl =\n",
       "            document.querySelector('#' + key + ' button');\n",
       "          quickchartButtonEl.disabled = true;  // To prevent multiple clicks.\n",
       "          quickchartButtonEl.classList.add('colab-df-spinner');\n",
       "          try {\n",
       "            const charts = await google.colab.kernel.invokeFunction(\n",
       "                'suggestCharts', [key], {});\n",
       "          } catch (error) {\n",
       "            console.error('Error during call to suggestCharts:', error);\n",
       "          }\n",
       "          quickchartButtonEl.classList.remove('colab-df-spinner');\n",
       "          quickchartButtonEl.classList.add('colab-df-quickchart-complete');\n",
       "        }\n",
       "        (() => {\n",
       "          let quickchartButtonEl =\n",
       "            document.querySelector('#df-ed47a915-b55f-4f9b-bc01-878c8f897aac button');\n",
       "          quickchartButtonEl.style.display =\n",
       "            google.colab.kernel.accessAllowed ? 'block' : 'none';\n",
       "        })();\n",
       "      </script>\n",
       "    </div>\n",
       "\n",
       "    </div>\n",
       "  </div>\n"
      ],
      "text/plain": [
       "         product_id                                      product_title  \\\n",
       "0  ACCFZGAQJGYCYDCM  BoAt Rockerz 235v2 with ASAP charging Version ...   \n",
       "1  ACCFZGAQJGYCYDCM  BoAt Rockerz 235v2 with ASAP charging Version ...   \n",
       "2  ACCFZGAQJGYCYDCM  BoAt Rockerz 235v2 with ASAP charging Version ...   \n",
       "3  ACCFZGAQJGYCYDCM  BoAt Rockerz 235v2 with ASAP charging Version ...   \n",
       "4  ACCFZGAQJGYCYDCM  BoAt Rockerz 235v2 with ASAP charging Version ...   \n",
       "\n",
       "   rating            summary  \\\n",
       "0       5  Terrific purchase   \n",
       "1       5  Terrific purchase   \n",
       "2       5             Super!   \n",
       "3       5             Super!   \n",
       "4       5  Terrific purchase   \n",
       "\n",
       "                                              review  \n",
       "0  1-more flexible2-bass is very high3-sound clar...  \n",
       "1     Super sound and good looking I like that prize  \n",
       "2  Very much satisfied with the device at this pr...  \n",
       "3  Nice headphone, bass was very good and sound i...  \n",
       "4  Sound quality super battery backup super quali...  "
      ]
     },
     "execution_count": 3,
     "metadata": {},
     "output_type": "execute_result"
    }
   ],
   "source": [
    "data = pd.read_csv(\"/content/drive/MyDrive/Flipkart Product Recommendation/flipkart_product_review.csv\")\n",
    "data.head()"
   ]
  },
  {
   "cell_type": "markdown",
   "metadata": {
    "id": "WkMh1sE03LdM"
   },
   "source": [
    "## Installing Dependencies"
   ]
  },
  {
   "cell_type": "code",
   "execution_count": null,
   "metadata": {
    "id": "HpbdnnGS3J-O"
   },
   "outputs": [],
   "source": [
    "!pip install -q langchain\n",
    "!pip install -q langchain-community\n",
    "!pip install -q langchain-astradb\n",
    "!pip install -q langchain-groq\n",
    "!pip install -q pypdf"
   ]
  },
  {
   "cell_type": "code",
   "execution_count": null,
   "metadata": {
    "colab": {
     "base_uri": "https://localhost:8080/",
     "height": 293
    },
    "executionInfo": {
     "elapsed": 115,
     "status": "ok",
     "timestamp": 1749063466208,
     "user": {
      "displayName": "abdul azizakash",
      "userId": "06305379687843862792"
     },
     "user_tz": -360
    },
    "id": "cB9s5uY26UKX",
    "outputId": "22d011ee-7724-40ef-b33d-96b42282e67d"
   },
   "outputs": [
    {
     "data": {
      "application/vnd.google.colaboratory.intrinsic+json": {
       "summary": "{\n  \"name\": \"data\",\n  \"rows\": 450,\n  \"fields\": [\n    {\n      \"column\": \"product_id\",\n      \"properties\": {\n        \"dtype\": \"category\",\n        \"num_unique_values\": 9,\n        \"samples\": [\n          \"ACCFSDGXX3S6DVBG\",\n          \"ACCFHGZFS7GB9CVM\",\n          \"ACCFVWN4PGNTEFGY\"\n        ],\n        \"semantic_type\": \"\",\n        \"description\": \"\"\n      }\n    },\n    {\n      \"column\": \"product_title\",\n      \"properties\": {\n        \"dtype\": \"category\",\n        \"num_unique_values\": 9,\n        \"samples\": [\n          \"BoAt Airdopes 131 Bluetooth Headset\",\n          \"realme Buds Wireless Bluetooth Headset\",\n          \"realme Buds Q Bluetooth Headset\"\n        ],\n        \"semantic_type\": \"\",\n        \"description\": \"\"\n      }\n    },\n    {\n      \"column\": \"rating\",\n      \"properties\": {\n        \"dtype\": \"number\",\n        \"std\": 1,\n        \"min\": 1,\n        \"max\": 5,\n        \"num_unique_values\": 5,\n        \"samples\": [\n          4,\n          2,\n          1\n        ],\n        \"semantic_type\": \"\",\n        \"description\": \"\"\n      }\n    },\n    {\n      \"column\": \"summary\",\n      \"properties\": {\n        \"dtype\": \"category\",\n        \"num_unique_values\": 50,\n        \"samples\": [\n          \"Awesome\",\n          \"Unsatisfactory\",\n          \"Good\"\n        ],\n        \"semantic_type\": \"\",\n        \"description\": \"\"\n      }\n    },\n    {\n      \"column\": \"review\",\n      \"properties\": {\n        \"dtype\": \"string\",\n        \"num_unique_values\": 449,\n        \"samples\": [\n          \"Good product.\",\n          \"Mindblowing productGood sound qualityBattery backup to goodBut calling issuesI am parches 1564/-rs\",\n          \"I have been using this product from couple months. This headset will absolutely not work for calls. The reason is, the build of Wireless Z will not get mic near our mouth. However, it works if you have absolute patience to hold the mic in front of your mouth for hours you talk or be in meetings. This headset is only nice for listening songs compromising on Bass ! Only good thing I found is battery backup... You keep charge, go drink tea and come back. It will do for the whole day. ...\"\n        ],\n        \"semantic_type\": \"\",\n        \"description\": \"\"\n      }\n    }\n  ]\n}",
       "type": "dataframe",
       "variable_name": "data"
      },
      "text/html": [
       "\n",
       "  <div id=\"df-9aca751f-333c-4c60-83a6-e32603d02efe\" class=\"colab-df-container\">\n",
       "    <div>\n",
       "<style scoped>\n",
       "    .dataframe tbody tr th:only-of-type {\n",
       "        vertical-align: middle;\n",
       "    }\n",
       "\n",
       "    .dataframe tbody tr th {\n",
       "        vertical-align: top;\n",
       "    }\n",
       "\n",
       "    .dataframe thead th {\n",
       "        text-align: right;\n",
       "    }\n",
       "</style>\n",
       "<table border=\"1\" class=\"dataframe\">\n",
       "  <thead>\n",
       "    <tr style=\"text-align: right;\">\n",
       "      <th></th>\n",
       "      <th>product_id</th>\n",
       "      <th>product_title</th>\n",
       "      <th>rating</th>\n",
       "      <th>summary</th>\n",
       "      <th>review</th>\n",
       "    </tr>\n",
       "  </thead>\n",
       "  <tbody>\n",
       "    <tr>\n",
       "      <th>0</th>\n",
       "      <td>ACCFZGAQJGYCYDCM</td>\n",
       "      <td>BoAt Rockerz 235v2 with ASAP charging Version ...</td>\n",
       "      <td>5</td>\n",
       "      <td>Terrific purchase</td>\n",
       "      <td>1-more flexible2-bass is very high3-sound clar...</td>\n",
       "    </tr>\n",
       "    <tr>\n",
       "      <th>1</th>\n",
       "      <td>ACCFZGAQJGYCYDCM</td>\n",
       "      <td>BoAt Rockerz 235v2 with ASAP charging Version ...</td>\n",
       "      <td>5</td>\n",
       "      <td>Terrific purchase</td>\n",
       "      <td>Super sound and good looking I like that prize</td>\n",
       "    </tr>\n",
       "    <tr>\n",
       "      <th>2</th>\n",
       "      <td>ACCFZGAQJGYCYDCM</td>\n",
       "      <td>BoAt Rockerz 235v2 with ASAP charging Version ...</td>\n",
       "      <td>5</td>\n",
       "      <td>Super!</td>\n",
       "      <td>Very much satisfied with the device at this pr...</td>\n",
       "    </tr>\n",
       "    <tr>\n",
       "      <th>3</th>\n",
       "      <td>ACCFZGAQJGYCYDCM</td>\n",
       "      <td>BoAt Rockerz 235v2 with ASAP charging Version ...</td>\n",
       "      <td>5</td>\n",
       "      <td>Super!</td>\n",
       "      <td>Nice headphone, bass was very good and sound i...</td>\n",
       "    </tr>\n",
       "    <tr>\n",
       "      <th>4</th>\n",
       "      <td>ACCFZGAQJGYCYDCM</td>\n",
       "      <td>BoAt Rockerz 235v2 with ASAP charging Version ...</td>\n",
       "      <td>5</td>\n",
       "      <td>Terrific purchase</td>\n",
       "      <td>Sound quality super battery backup super quali...</td>\n",
       "    </tr>\n",
       "  </tbody>\n",
       "</table>\n",
       "</div>\n",
       "    <div class=\"colab-df-buttons\">\n",
       "\n",
       "  <div class=\"colab-df-container\">\n",
       "    <button class=\"colab-df-convert\" onclick=\"convertToInteractive('df-9aca751f-333c-4c60-83a6-e32603d02efe')\"\n",
       "            title=\"Convert this dataframe to an interactive table.\"\n",
       "            style=\"display:none;\">\n",
       "\n",
       "  <svg xmlns=\"http://www.w3.org/2000/svg\" height=\"24px\" viewBox=\"0 -960 960 960\">\n",
       "    <path d=\"M120-120v-720h720v720H120Zm60-500h600v-160H180v160Zm220 220h160v-160H400v160Zm0 220h160v-160H400v160ZM180-400h160v-160H180v160Zm440 0h160v-160H620v160ZM180-180h160v-160H180v160Zm440 0h160v-160H620v160Z\"/>\n",
       "  </svg>\n",
       "    </button>\n",
       "\n",
       "  <style>\n",
       "    .colab-df-container {\n",
       "      display:flex;\n",
       "      gap: 12px;\n",
       "    }\n",
       "\n",
       "    .colab-df-convert {\n",
       "      background-color: #E8F0FE;\n",
       "      border: none;\n",
       "      border-radius: 50%;\n",
       "      cursor: pointer;\n",
       "      display: none;\n",
       "      fill: #1967D2;\n",
       "      height: 32px;\n",
       "      padding: 0 0 0 0;\n",
       "      width: 32px;\n",
       "    }\n",
       "\n",
       "    .colab-df-convert:hover {\n",
       "      background-color: #E2EBFA;\n",
       "      box-shadow: 0px 1px 2px rgba(60, 64, 67, 0.3), 0px 1px 3px 1px rgba(60, 64, 67, 0.15);\n",
       "      fill: #174EA6;\n",
       "    }\n",
       "\n",
       "    .colab-df-buttons div {\n",
       "      margin-bottom: 4px;\n",
       "    }\n",
       "\n",
       "    [theme=dark] .colab-df-convert {\n",
       "      background-color: #3B4455;\n",
       "      fill: #D2E3FC;\n",
       "    }\n",
       "\n",
       "    [theme=dark] .colab-df-convert:hover {\n",
       "      background-color: #434B5C;\n",
       "      box-shadow: 0px 1px 3px 1px rgba(0, 0, 0, 0.15);\n",
       "      filter: drop-shadow(0px 1px 2px rgba(0, 0, 0, 0.3));\n",
       "      fill: #FFFFFF;\n",
       "    }\n",
       "  </style>\n",
       "\n",
       "    <script>\n",
       "      const buttonEl =\n",
       "        document.querySelector('#df-9aca751f-333c-4c60-83a6-e32603d02efe button.colab-df-convert');\n",
       "      buttonEl.style.display =\n",
       "        google.colab.kernel.accessAllowed ? 'block' : 'none';\n",
       "\n",
       "      async function convertToInteractive(key) {\n",
       "        const element = document.querySelector('#df-9aca751f-333c-4c60-83a6-e32603d02efe');\n",
       "        const dataTable =\n",
       "          await google.colab.kernel.invokeFunction('convertToInteractive',\n",
       "                                                    [key], {});\n",
       "        if (!dataTable) return;\n",
       "\n",
       "        const docLinkHtml = 'Like what you see? Visit the ' +\n",
       "          '<a target=\"_blank\" href=https://colab.research.google.com/notebooks/data_table.ipynb>data table notebook</a>'\n",
       "          + ' to learn more about interactive tables.';\n",
       "        element.innerHTML = '';\n",
       "        dataTable['output_type'] = 'display_data';\n",
       "        await google.colab.output.renderOutput(dataTable, element);\n",
       "        const docLink = document.createElement('div');\n",
       "        docLink.innerHTML = docLinkHtml;\n",
       "        element.appendChild(docLink);\n",
       "      }\n",
       "    </script>\n",
       "  </div>\n",
       "\n",
       "\n",
       "    <div id=\"df-8333a4c0-4873-40b9-8130-15db3c31cb61\">\n",
       "      <button class=\"colab-df-quickchart\" onclick=\"quickchart('df-8333a4c0-4873-40b9-8130-15db3c31cb61')\"\n",
       "                title=\"Suggest charts\"\n",
       "                style=\"display:none;\">\n",
       "\n",
       "<svg xmlns=\"http://www.w3.org/2000/svg\" height=\"24px\"viewBox=\"0 0 24 24\"\n",
       "     width=\"24px\">\n",
       "    <g>\n",
       "        <path d=\"M19 3H5c-1.1 0-2 .9-2 2v14c0 1.1.9 2 2 2h14c1.1 0 2-.9 2-2V5c0-1.1-.9-2-2-2zM9 17H7v-7h2v7zm4 0h-2V7h2v10zm4 0h-2v-4h2v4z\"/>\n",
       "    </g>\n",
       "</svg>\n",
       "      </button>\n",
       "\n",
       "<style>\n",
       "  .colab-df-quickchart {\n",
       "      --bg-color: #E8F0FE;\n",
       "      --fill-color: #1967D2;\n",
       "      --hover-bg-color: #E2EBFA;\n",
       "      --hover-fill-color: #174EA6;\n",
       "      --disabled-fill-color: #AAA;\n",
       "      --disabled-bg-color: #DDD;\n",
       "  }\n",
       "\n",
       "  [theme=dark] .colab-df-quickchart {\n",
       "      --bg-color: #3B4455;\n",
       "      --fill-color: #D2E3FC;\n",
       "      --hover-bg-color: #434B5C;\n",
       "      --hover-fill-color: #FFFFFF;\n",
       "      --disabled-bg-color: #3B4455;\n",
       "      --disabled-fill-color: #666;\n",
       "  }\n",
       "\n",
       "  .colab-df-quickchart {\n",
       "    background-color: var(--bg-color);\n",
       "    border: none;\n",
       "    border-radius: 50%;\n",
       "    cursor: pointer;\n",
       "    display: none;\n",
       "    fill: var(--fill-color);\n",
       "    height: 32px;\n",
       "    padding: 0;\n",
       "    width: 32px;\n",
       "  }\n",
       "\n",
       "  .colab-df-quickchart:hover {\n",
       "    background-color: var(--hover-bg-color);\n",
       "    box-shadow: 0 1px 2px rgba(60, 64, 67, 0.3), 0 1px 3px 1px rgba(60, 64, 67, 0.15);\n",
       "    fill: var(--button-hover-fill-color);\n",
       "  }\n",
       "\n",
       "  .colab-df-quickchart-complete:disabled,\n",
       "  .colab-df-quickchart-complete:disabled:hover {\n",
       "    background-color: var(--disabled-bg-color);\n",
       "    fill: var(--disabled-fill-color);\n",
       "    box-shadow: none;\n",
       "  }\n",
       "\n",
       "  .colab-df-spinner {\n",
       "    border: 2px solid var(--fill-color);\n",
       "    border-color: transparent;\n",
       "    border-bottom-color: var(--fill-color);\n",
       "    animation:\n",
       "      spin 1s steps(1) infinite;\n",
       "  }\n",
       "\n",
       "  @keyframes spin {\n",
       "    0% {\n",
       "      border-color: transparent;\n",
       "      border-bottom-color: var(--fill-color);\n",
       "      border-left-color: var(--fill-color);\n",
       "    }\n",
       "    20% {\n",
       "      border-color: transparent;\n",
       "      border-left-color: var(--fill-color);\n",
       "      border-top-color: var(--fill-color);\n",
       "    }\n",
       "    30% {\n",
       "      border-color: transparent;\n",
       "      border-left-color: var(--fill-color);\n",
       "      border-top-color: var(--fill-color);\n",
       "      border-right-color: var(--fill-color);\n",
       "    }\n",
       "    40% {\n",
       "      border-color: transparent;\n",
       "      border-right-color: var(--fill-color);\n",
       "      border-top-color: var(--fill-color);\n",
       "    }\n",
       "    60% {\n",
       "      border-color: transparent;\n",
       "      border-right-color: var(--fill-color);\n",
       "    }\n",
       "    80% {\n",
       "      border-color: transparent;\n",
       "      border-right-color: var(--fill-color);\n",
       "      border-bottom-color: var(--fill-color);\n",
       "    }\n",
       "    90% {\n",
       "      border-color: transparent;\n",
       "      border-bottom-color: var(--fill-color);\n",
       "    }\n",
       "  }\n",
       "</style>\n",
       "\n",
       "      <script>\n",
       "        async function quickchart(key) {\n",
       "          const quickchartButtonEl =\n",
       "            document.querySelector('#' + key + ' button');\n",
       "          quickchartButtonEl.disabled = true;  // To prevent multiple clicks.\n",
       "          quickchartButtonEl.classList.add('colab-df-spinner');\n",
       "          try {\n",
       "            const charts = await google.colab.kernel.invokeFunction(\n",
       "                'suggestCharts', [key], {});\n",
       "          } catch (error) {\n",
       "            console.error('Error during call to suggestCharts:', error);\n",
       "          }\n",
       "          quickchartButtonEl.classList.remove('colab-df-spinner');\n",
       "          quickchartButtonEl.classList.add('colab-df-quickchart-complete');\n",
       "        }\n",
       "        (() => {\n",
       "          let quickchartButtonEl =\n",
       "            document.querySelector('#df-8333a4c0-4873-40b9-8130-15db3c31cb61 button');\n",
       "          quickchartButtonEl.style.display =\n",
       "            google.colab.kernel.accessAllowed ? 'block' : 'none';\n",
       "        })();\n",
       "      </script>\n",
       "    </div>\n",
       "\n",
       "    </div>\n",
       "  </div>\n"
      ],
      "text/plain": [
       "         product_id                                      product_title  \\\n",
       "0  ACCFZGAQJGYCYDCM  BoAt Rockerz 235v2 with ASAP charging Version ...   \n",
       "1  ACCFZGAQJGYCYDCM  BoAt Rockerz 235v2 with ASAP charging Version ...   \n",
       "2  ACCFZGAQJGYCYDCM  BoAt Rockerz 235v2 with ASAP charging Version ...   \n",
       "3  ACCFZGAQJGYCYDCM  BoAt Rockerz 235v2 with ASAP charging Version ...   \n",
       "4  ACCFZGAQJGYCYDCM  BoAt Rockerz 235v2 with ASAP charging Version ...   \n",
       "\n",
       "   rating            summary  \\\n",
       "0       5  Terrific purchase   \n",
       "1       5  Terrific purchase   \n",
       "2       5             Super!   \n",
       "3       5             Super!   \n",
       "4       5  Terrific purchase   \n",
       "\n",
       "                                              review  \n",
       "0  1-more flexible2-bass is very high3-sound clar...  \n",
       "1     Super sound and good looking I like that prize  \n",
       "2  Very much satisfied with the device at this pr...  \n",
       "3  Nice headphone, bass was very good and sound i...  \n",
       "4  Sound quality super battery backup super quali...  "
      ]
     },
     "execution_count": 5,
     "metadata": {},
     "output_type": "execute_result"
    }
   ],
   "source": [
    "data.head()"
   ]
  },
  {
   "cell_type": "code",
   "execution_count": null,
   "metadata": {
    "colab": {
     "base_uri": "https://localhost:8080/"
    },
    "executionInfo": {
     "elapsed": 52,
     "status": "ok",
     "timestamp": 1749063466276,
     "user": {
      "displayName": "abdul azizakash",
      "userId": "06305379687843862792"
     },
     "user_tz": -360
    },
    "id": "r3XynuKl8swM",
    "outputId": "ca653bf4-ba99-4e12-a88b-f44b47606e06"
   },
   "outputs": [
    {
     "data": {
      "text/plain": [
       "Index(['product_id', 'product_title', 'rating', 'summary', 'review'], dtype='object')"
      ]
     },
     "execution_count": 6,
     "metadata": {},
     "output_type": "execute_result"
    }
   ],
   "source": [
    "data.columns"
   ]
  },
  {
   "cell_type": "code",
   "execution_count": null,
   "metadata": {
    "id": "mcSzJQCp8ynw"
   },
   "outputs": [],
   "source": [
    "data = data[[\"product_title\", \"review\"]]"
   ]
  },
  {
   "cell_type": "code",
   "execution_count": null,
   "metadata": {
    "colab": {
     "base_uri": "https://localhost:8080/",
     "height": 206
    },
    "executionInfo": {
     "elapsed": 16,
     "status": "ok",
     "timestamp": 1749063466407,
     "user": {
      "displayName": "abdul azizakash",
      "userId": "06305379687843862792"
     },
     "user_tz": -360
    },
    "id": "ZSnD-bv286nL",
    "outputId": "bf1a84ce-6f34-4b86-90fc-ff351159cd0a"
   },
   "outputs": [
    {
     "data": {
      "application/vnd.google.colaboratory.intrinsic+json": {
       "summary": "{\n  \"name\": \"data\",\n  \"rows\": 450,\n  \"fields\": [\n    {\n      \"column\": \"product_title\",\n      \"properties\": {\n        \"dtype\": \"category\",\n        \"num_unique_values\": 9,\n        \"samples\": [\n          \"BoAt Airdopes 131 Bluetooth Headset\",\n          \"realme Buds Wireless Bluetooth Headset\",\n          \"realme Buds Q Bluetooth Headset\"\n        ],\n        \"semantic_type\": \"\",\n        \"description\": \"\"\n      }\n    },\n    {\n      \"column\": \"review\",\n      \"properties\": {\n        \"dtype\": \"string\",\n        \"num_unique_values\": 449,\n        \"samples\": [\n          \"Good product.\",\n          \"Mindblowing productGood sound qualityBattery backup to goodBut calling issuesI am parches 1564/-rs\",\n          \"I have been using this product from couple months. This headset will absolutely not work for calls. The reason is, the build of Wireless Z will not get mic near our mouth. However, it works if you have absolute patience to hold the mic in front of your mouth for hours you talk or be in meetings. This headset is only nice for listening songs compromising on Bass ! Only good thing I found is battery backup... You keep charge, go drink tea and come back. It will do for the whole day. ...\"\n        ],\n        \"semantic_type\": \"\",\n        \"description\": \"\"\n      }\n    }\n  ]\n}",
       "type": "dataframe",
       "variable_name": "data"
      },
      "text/html": [
       "\n",
       "  <div id=\"df-25138421-cf1b-4584-8abb-0f63eb5edfb0\" class=\"colab-df-container\">\n",
       "    <div>\n",
       "<style scoped>\n",
       "    .dataframe tbody tr th:only-of-type {\n",
       "        vertical-align: middle;\n",
       "    }\n",
       "\n",
       "    .dataframe tbody tr th {\n",
       "        vertical-align: top;\n",
       "    }\n",
       "\n",
       "    .dataframe thead th {\n",
       "        text-align: right;\n",
       "    }\n",
       "</style>\n",
       "<table border=\"1\" class=\"dataframe\">\n",
       "  <thead>\n",
       "    <tr style=\"text-align: right;\">\n",
       "      <th></th>\n",
       "      <th>product_title</th>\n",
       "      <th>review</th>\n",
       "    </tr>\n",
       "  </thead>\n",
       "  <tbody>\n",
       "    <tr>\n",
       "      <th>0</th>\n",
       "      <td>BoAt Rockerz 235v2 with ASAP charging Version ...</td>\n",
       "      <td>1-more flexible2-bass is very high3-sound clar...</td>\n",
       "    </tr>\n",
       "    <tr>\n",
       "      <th>1</th>\n",
       "      <td>BoAt Rockerz 235v2 with ASAP charging Version ...</td>\n",
       "      <td>Super sound and good looking I like that prize</td>\n",
       "    </tr>\n",
       "    <tr>\n",
       "      <th>2</th>\n",
       "      <td>BoAt Rockerz 235v2 with ASAP charging Version ...</td>\n",
       "      <td>Very much satisfied with the device at this pr...</td>\n",
       "    </tr>\n",
       "    <tr>\n",
       "      <th>3</th>\n",
       "      <td>BoAt Rockerz 235v2 with ASAP charging Version ...</td>\n",
       "      <td>Nice headphone, bass was very good and sound i...</td>\n",
       "    </tr>\n",
       "    <tr>\n",
       "      <th>4</th>\n",
       "      <td>BoAt Rockerz 235v2 with ASAP charging Version ...</td>\n",
       "      <td>Sound quality super battery backup super quali...</td>\n",
       "    </tr>\n",
       "  </tbody>\n",
       "</table>\n",
       "</div>\n",
       "    <div class=\"colab-df-buttons\">\n",
       "\n",
       "  <div class=\"colab-df-container\">\n",
       "    <button class=\"colab-df-convert\" onclick=\"convertToInteractive('df-25138421-cf1b-4584-8abb-0f63eb5edfb0')\"\n",
       "            title=\"Convert this dataframe to an interactive table.\"\n",
       "            style=\"display:none;\">\n",
       "\n",
       "  <svg xmlns=\"http://www.w3.org/2000/svg\" height=\"24px\" viewBox=\"0 -960 960 960\">\n",
       "    <path d=\"M120-120v-720h720v720H120Zm60-500h600v-160H180v160Zm220 220h160v-160H400v160Zm0 220h160v-160H400v160ZM180-400h160v-160H180v160Zm440 0h160v-160H620v160ZM180-180h160v-160H180v160Zm440 0h160v-160H620v160Z\"/>\n",
       "  </svg>\n",
       "    </button>\n",
       "\n",
       "  <style>\n",
       "    .colab-df-container {\n",
       "      display:flex;\n",
       "      gap: 12px;\n",
       "    }\n",
       "\n",
       "    .colab-df-convert {\n",
       "      background-color: #E8F0FE;\n",
       "      border: none;\n",
       "      border-radius: 50%;\n",
       "      cursor: pointer;\n",
       "      display: none;\n",
       "      fill: #1967D2;\n",
       "      height: 32px;\n",
       "      padding: 0 0 0 0;\n",
       "      width: 32px;\n",
       "    }\n",
       "\n",
       "    .colab-df-convert:hover {\n",
       "      background-color: #E2EBFA;\n",
       "      box-shadow: 0px 1px 2px rgba(60, 64, 67, 0.3), 0px 1px 3px 1px rgba(60, 64, 67, 0.15);\n",
       "      fill: #174EA6;\n",
       "    }\n",
       "\n",
       "    .colab-df-buttons div {\n",
       "      margin-bottom: 4px;\n",
       "    }\n",
       "\n",
       "    [theme=dark] .colab-df-convert {\n",
       "      background-color: #3B4455;\n",
       "      fill: #D2E3FC;\n",
       "    }\n",
       "\n",
       "    [theme=dark] .colab-df-convert:hover {\n",
       "      background-color: #434B5C;\n",
       "      box-shadow: 0px 1px 3px 1px rgba(0, 0, 0, 0.15);\n",
       "      filter: drop-shadow(0px 1px 2px rgba(0, 0, 0, 0.3));\n",
       "      fill: #FFFFFF;\n",
       "    }\n",
       "  </style>\n",
       "\n",
       "    <script>\n",
       "      const buttonEl =\n",
       "        document.querySelector('#df-25138421-cf1b-4584-8abb-0f63eb5edfb0 button.colab-df-convert');\n",
       "      buttonEl.style.display =\n",
       "        google.colab.kernel.accessAllowed ? 'block' : 'none';\n",
       "\n",
       "      async function convertToInteractive(key) {\n",
       "        const element = document.querySelector('#df-25138421-cf1b-4584-8abb-0f63eb5edfb0');\n",
       "        const dataTable =\n",
       "          await google.colab.kernel.invokeFunction('convertToInteractive',\n",
       "                                                    [key], {});\n",
       "        if (!dataTable) return;\n",
       "\n",
       "        const docLinkHtml = 'Like what you see? Visit the ' +\n",
       "          '<a target=\"_blank\" href=https://colab.research.google.com/notebooks/data_table.ipynb>data table notebook</a>'\n",
       "          + ' to learn more about interactive tables.';\n",
       "        element.innerHTML = '';\n",
       "        dataTable['output_type'] = 'display_data';\n",
       "        await google.colab.output.renderOutput(dataTable, element);\n",
       "        const docLink = document.createElement('div');\n",
       "        docLink.innerHTML = docLinkHtml;\n",
       "        element.appendChild(docLink);\n",
       "      }\n",
       "    </script>\n",
       "  </div>\n",
       "\n",
       "\n",
       "    <div id=\"df-3439006d-e8c3-43c9-bb13-055916e47954\">\n",
       "      <button class=\"colab-df-quickchart\" onclick=\"quickchart('df-3439006d-e8c3-43c9-bb13-055916e47954')\"\n",
       "                title=\"Suggest charts\"\n",
       "                style=\"display:none;\">\n",
       "\n",
       "<svg xmlns=\"http://www.w3.org/2000/svg\" height=\"24px\"viewBox=\"0 0 24 24\"\n",
       "     width=\"24px\">\n",
       "    <g>\n",
       "        <path d=\"M19 3H5c-1.1 0-2 .9-2 2v14c0 1.1.9 2 2 2h14c1.1 0 2-.9 2-2V5c0-1.1-.9-2-2-2zM9 17H7v-7h2v7zm4 0h-2V7h2v10zm4 0h-2v-4h2v4z\"/>\n",
       "    </g>\n",
       "</svg>\n",
       "      </button>\n",
       "\n",
       "<style>\n",
       "  .colab-df-quickchart {\n",
       "      --bg-color: #E8F0FE;\n",
       "      --fill-color: #1967D2;\n",
       "      --hover-bg-color: #E2EBFA;\n",
       "      --hover-fill-color: #174EA6;\n",
       "      --disabled-fill-color: #AAA;\n",
       "      --disabled-bg-color: #DDD;\n",
       "  }\n",
       "\n",
       "  [theme=dark] .colab-df-quickchart {\n",
       "      --bg-color: #3B4455;\n",
       "      --fill-color: #D2E3FC;\n",
       "      --hover-bg-color: #434B5C;\n",
       "      --hover-fill-color: #FFFFFF;\n",
       "      --disabled-bg-color: #3B4455;\n",
       "      --disabled-fill-color: #666;\n",
       "  }\n",
       "\n",
       "  .colab-df-quickchart {\n",
       "    background-color: var(--bg-color);\n",
       "    border: none;\n",
       "    border-radius: 50%;\n",
       "    cursor: pointer;\n",
       "    display: none;\n",
       "    fill: var(--fill-color);\n",
       "    height: 32px;\n",
       "    padding: 0;\n",
       "    width: 32px;\n",
       "  }\n",
       "\n",
       "  .colab-df-quickchart:hover {\n",
       "    background-color: var(--hover-bg-color);\n",
       "    box-shadow: 0 1px 2px rgba(60, 64, 67, 0.3), 0 1px 3px 1px rgba(60, 64, 67, 0.15);\n",
       "    fill: var(--button-hover-fill-color);\n",
       "  }\n",
       "\n",
       "  .colab-df-quickchart-complete:disabled,\n",
       "  .colab-df-quickchart-complete:disabled:hover {\n",
       "    background-color: var(--disabled-bg-color);\n",
       "    fill: var(--disabled-fill-color);\n",
       "    box-shadow: none;\n",
       "  }\n",
       "\n",
       "  .colab-df-spinner {\n",
       "    border: 2px solid var(--fill-color);\n",
       "    border-color: transparent;\n",
       "    border-bottom-color: var(--fill-color);\n",
       "    animation:\n",
       "      spin 1s steps(1) infinite;\n",
       "  }\n",
       "\n",
       "  @keyframes spin {\n",
       "    0% {\n",
       "      border-color: transparent;\n",
       "      border-bottom-color: var(--fill-color);\n",
       "      border-left-color: var(--fill-color);\n",
       "    }\n",
       "    20% {\n",
       "      border-color: transparent;\n",
       "      border-left-color: var(--fill-color);\n",
       "      border-top-color: var(--fill-color);\n",
       "    }\n",
       "    30% {\n",
       "      border-color: transparent;\n",
       "      border-left-color: var(--fill-color);\n",
       "      border-top-color: var(--fill-color);\n",
       "      border-right-color: var(--fill-color);\n",
       "    }\n",
       "    40% {\n",
       "      border-color: transparent;\n",
       "      border-right-color: var(--fill-color);\n",
       "      border-top-color: var(--fill-color);\n",
       "    }\n",
       "    60% {\n",
       "      border-color: transparent;\n",
       "      border-right-color: var(--fill-color);\n",
       "    }\n",
       "    80% {\n",
       "      border-color: transparent;\n",
       "      border-right-color: var(--fill-color);\n",
       "      border-bottom-color: var(--fill-color);\n",
       "    }\n",
       "    90% {\n",
       "      border-color: transparent;\n",
       "      border-bottom-color: var(--fill-color);\n",
       "    }\n",
       "  }\n",
       "</style>\n",
       "\n",
       "      <script>\n",
       "        async function quickchart(key) {\n",
       "          const quickchartButtonEl =\n",
       "            document.querySelector('#' + key + ' button');\n",
       "          quickchartButtonEl.disabled = true;  // To prevent multiple clicks.\n",
       "          quickchartButtonEl.classList.add('colab-df-spinner');\n",
       "          try {\n",
       "            const charts = await google.colab.kernel.invokeFunction(\n",
       "                'suggestCharts', [key], {});\n",
       "          } catch (error) {\n",
       "            console.error('Error during call to suggestCharts:', error);\n",
       "          }\n",
       "          quickchartButtonEl.classList.remove('colab-df-spinner');\n",
       "          quickchartButtonEl.classList.add('colab-df-quickchart-complete');\n",
       "        }\n",
       "        (() => {\n",
       "          let quickchartButtonEl =\n",
       "            document.querySelector('#df-3439006d-e8c3-43c9-bb13-055916e47954 button');\n",
       "          quickchartButtonEl.style.display =\n",
       "            google.colab.kernel.accessAllowed ? 'block' : 'none';\n",
       "        })();\n",
       "      </script>\n",
       "    </div>\n",
       "\n",
       "    </div>\n",
       "  </div>\n"
      ],
      "text/plain": [
       "                                       product_title  \\\n",
       "0  BoAt Rockerz 235v2 with ASAP charging Version ...   \n",
       "1  BoAt Rockerz 235v2 with ASAP charging Version ...   \n",
       "2  BoAt Rockerz 235v2 with ASAP charging Version ...   \n",
       "3  BoAt Rockerz 235v2 with ASAP charging Version ...   \n",
       "4  BoAt Rockerz 235v2 with ASAP charging Version ...   \n",
       "\n",
       "                                              review  \n",
       "0  1-more flexible2-bass is very high3-sound clar...  \n",
       "1     Super sound and good looking I like that prize  \n",
       "2  Very much satisfied with the device at this pr...  \n",
       "3  Nice headphone, bass was very good and sound i...  \n",
       "4  Sound quality super battery backup super quali...  "
      ]
     },
     "execution_count": 8,
     "metadata": {},
     "output_type": "execute_result"
    }
   ],
   "source": [
    "data.head()"
   ]
  },
  {
   "cell_type": "markdown",
   "metadata": {
    "id": "R9qknK9k9BmK"
   },
   "source": [
    "# Convert Data into Dcoument Fromat\n",
    "[\n",
    "   Document(metadata={'product_name': 'BoAt BassHeads 100 Wired Headset'}, page_content='a very good earphone in budget sound is awesome very pure sound but the bass is ok ok..  you can go for it without thinking much')\n",
    "]\n"
   ]
  },
  {
   "cell_type": "code",
   "execution_count": null,
   "metadata": {
    "id": "dz2thd6L88l7"
   },
   "outputs": [],
   "source": [
    "product_list = []\n",
    "\n",
    "## Itrate over the rows of the DataFrame\n",
    "\n",
    "for index, row in data.iterrows():\n",
    "  object = {\n",
    "      \"product_name\": row[\"product_title\"],\n",
    "      \"review\": row[\"review\"]\n",
    "  }\n",
    "\n",
    "  ## Append the object to the product list\n",
    "\n",
    "  product_list.append(object)"
   ]
  },
  {
   "cell_type": "code",
   "execution_count": null,
   "metadata": {
    "colab": {
     "base_uri": "https://localhost:8080/"
    },
    "executionInfo": {
     "elapsed": 41,
     "status": "ok",
     "timestamp": 1749063466466,
     "user": {
      "displayName": "abdul azizakash",
      "userId": "06305379687843862792"
     },
     "user_tz": -360
    },
    "id": "GTCReHk39gHb",
    "outputId": "7cdd63ed-17cc-4929-e150-7b84580bfefa"
   },
   "outputs": [
    {
     "data": {
      "text/plain": [
       "{'product_name': 'BoAt Rockerz 235v2 with ASAP charging Version 5.0 Bluetooth Headset',\n",
       " 'review': \"1-more flexible2-bass is very high3-sound clarity is good 4-battery back up to 6 to 8 hour's 5-main thing is fastest charging system is available in that. Only 20 min charge and get long up to 4 hours back up 6-killing look awesome 7-for gaming that product does not support 100% if you want for gaming then I'll recommend you please don't buy but you want for only music then this product is very well for you.. 8-no more wireless headphones are comparing with that headphones at this pric...\"}"
      ]
     },
     "execution_count": 10,
     "metadata": {},
     "output_type": "execute_result"
    }
   ],
   "source": [
    "product_list[0]"
   ]
  },
  {
   "cell_type": "code",
   "execution_count": null,
   "metadata": {
    "id": "fHA83dBx9ix7"
   },
   "outputs": [],
   "source": [
    "from langchain_core.documents import Document"
   ]
  },
  {
   "cell_type": "code",
   "execution_count": null,
   "metadata": {
    "id": "imXjidkY9nj7"
   },
   "outputs": [],
   "source": [
    "docs = []\n",
    "\n",
    "for object in product_list:\n",
    "  metadata = {\"product_name\": object[\"product_name\"]}\n",
    "  page_content = object[\"review\"]\n",
    "\n",
    "  doc = Document(page_content= page_content, metadata= metadata)\n",
    "\n",
    "  docs.append(doc)\n"
   ]
  },
  {
   "cell_type": "code",
   "execution_count": null,
   "metadata": {
    "colab": {
     "base_uri": "https://localhost:8080/"
    },
    "executionInfo": {
     "elapsed": 28,
     "status": "ok",
     "timestamp": 1749063466586,
     "user": {
      "displayName": "abdul azizakash",
      "userId": "06305379687843862792"
     },
     "user_tz": -360
    },
    "id": "Dwwlu-Ai-ANL",
    "outputId": "cc073544-2cc2-4c0b-8425-79ea7661f863"
   },
   "outputs": [
    {
     "data": {
      "text/plain": [
       "Document(metadata={'product_name': 'BoAt Rockerz 235v2 with ASAP charging Version 5.0 Bluetooth Headset'}, page_content=\"1-more flexible2-bass is very high3-sound clarity is good 4-battery back up to 6 to 8 hour's 5-main thing is fastest charging system is available in that. Only 20 min charge and get long up to 4 hours back up 6-killing look awesome 7-for gaming that product does not support 100% if you want for gaming then I'll recommend you please don't buy but you want for only music then this product is very well for you.. 8-no more wireless headphones are comparing with that headphones at this pric...\")"
      ]
     },
     "execution_count": 13,
     "metadata": {},
     "output_type": "execute_result"
    }
   ],
   "source": [
    "docs[0]"
   ]
  },
  {
   "cell_type": "code",
   "execution_count": null,
   "metadata": {
    "colab": {
     "base_uri": "https://localhost:8080/"
    },
    "executionInfo": {
     "elapsed": 20,
     "status": "ok",
     "timestamp": 1749063466610,
     "user": {
      "displayName": "abdul azizakash",
      "userId": "06305379687843862792"
     },
     "user_tz": -360
    },
    "id": "rwy-k0V2-B3X",
    "outputId": "c8da4e16-f35a-4a2f-e2a8-25d0fa255ebc"
   },
   "outputs": [
    {
     "data": {
      "text/plain": [
       "450"
      ]
     },
     "execution_count": 14,
     "metadata": {},
     "output_type": "execute_result"
    }
   ],
   "source": [
    "len(docs)"
   ]
  },
  {
   "cell_type": "code",
   "execution_count": null,
   "metadata": {
    "id": "b2kaK502-Gb7"
   },
   "outputs": [],
   "source": [
    "GROQ_API = \"\"\n",
    "ASTRA_DB_API_ENDPOINT = \"\"\n",
    "ASTRA_DB_APPLICATION_TOKEN = \"\"\n",
    "ASTRA_DB_KEYSPACE = \"default_keyspace\"\n",
    "HF_TOKEN = \"\""
   ]
  },
  {
   "cell_type": "code",
   "execution_count": null,
   "metadata": {
    "id": "2jWxWoZH-ryP"
   },
   "outputs": [],
   "source": [
    "# from langchain_community.embeddings import HuggingFaceInferenceAPIEmbeddings\n",
    "\n",
    "# embeddings = HuggingFaceInferenceAPIEmbeddings(api_key= HF_TOKEN, model_name= \"BAAI/bge-base-en-v1.5\")"
   ]
  },
  {
   "cell_type": "code",
   "execution_count": null,
   "metadata": {
    "colab": {
     "base_uri": "https://localhost:8080/"
    },
    "executionInfo": {
     "elapsed": 2727,
     "status": "ok",
     "timestamp": 1749065028235,
     "user": {
      "displayName": "abdul azizakash",
      "userId": "06305379687843862792"
     },
     "user_tz": -360
    },
    "id": "ZfWK-aOAUgkh",
    "outputId": "d53a17df-3c74-4e8a-a4bf-ea72c76ca7ad"
   },
   "outputs": [
    {
     "name": "stdout",
     "output_type": "stream",
     "text": [
      "Requirement already satisfied: langchain_community in /usr/local/lib/python3.11/dist-packages (0.3.24)\n",
      "Requirement already satisfied: langchain-core<1.0.0,>=0.3.59 in /usr/local/lib/python3.11/dist-packages (from langchain_community) (0.3.63)\n",
      "Requirement already satisfied: langchain<1.0.0,>=0.3.25 in /usr/local/lib/python3.11/dist-packages (from langchain_community) (0.3.25)\n",
      "Requirement already satisfied: SQLAlchemy<3,>=1.4 in /usr/local/lib/python3.11/dist-packages (from langchain_community) (2.0.41)\n",
      "Requirement already satisfied: requests<3,>=2 in /usr/local/lib/python3.11/dist-packages (from langchain_community) (2.32.3)\n",
      "Requirement already satisfied: PyYAML>=5.3 in /usr/local/lib/python3.11/dist-packages (from langchain_community) (6.0.2)\n",
      "Requirement already satisfied: aiohttp<4.0.0,>=3.8.3 in /usr/local/lib/python3.11/dist-packages (from langchain_community) (3.11.15)\n",
      "Requirement already satisfied: tenacity!=8.4.0,<10,>=8.1.0 in /usr/local/lib/python3.11/dist-packages (from langchain_community) (9.1.2)\n",
      "Requirement already satisfied: dataclasses-json<0.7,>=0.5.7 in /usr/local/lib/python3.11/dist-packages (from langchain_community) (0.6.7)\n",
      "Requirement already satisfied: pydantic-settings<3.0.0,>=2.4.0 in /usr/local/lib/python3.11/dist-packages (from langchain_community) (2.9.1)\n",
      "Requirement already satisfied: langsmith<0.4,>=0.1.125 in /usr/local/lib/python3.11/dist-packages (from langchain_community) (0.3.43)\n",
      "Requirement already satisfied: httpx-sse<1.0.0,>=0.4.0 in /usr/local/lib/python3.11/dist-packages (from langchain_community) (0.4.0)\n",
      "Requirement already satisfied: numpy>=1.26.2 in /usr/local/lib/python3.11/dist-packages (from langchain_community) (1.26.4)\n",
      "Requirement already satisfied: aiohappyeyeballs>=2.3.0 in /usr/local/lib/python3.11/dist-packages (from aiohttp<4.0.0,>=3.8.3->langchain_community) (2.6.1)\n",
      "Requirement already satisfied: aiosignal>=1.1.2 in /usr/local/lib/python3.11/dist-packages (from aiohttp<4.0.0,>=3.8.3->langchain_community) (1.3.2)\n",
      "Requirement already satisfied: attrs>=17.3.0 in /usr/local/lib/python3.11/dist-packages (from aiohttp<4.0.0,>=3.8.3->langchain_community) (25.3.0)\n",
      "Requirement already satisfied: frozenlist>=1.1.1 in /usr/local/lib/python3.11/dist-packages (from aiohttp<4.0.0,>=3.8.3->langchain_community) (1.6.0)\n",
      "Requirement already satisfied: multidict<7.0,>=4.5 in /usr/local/lib/python3.11/dist-packages (from aiohttp<4.0.0,>=3.8.3->langchain_community) (6.4.4)\n",
      "Requirement already satisfied: propcache>=0.2.0 in /usr/local/lib/python3.11/dist-packages (from aiohttp<4.0.0,>=3.8.3->langchain_community) (0.3.1)\n",
      "Requirement already satisfied: yarl<2.0,>=1.17.0 in /usr/local/lib/python3.11/dist-packages (from aiohttp<4.0.0,>=3.8.3->langchain_community) (1.20.0)\n",
      "Requirement already satisfied: marshmallow<4.0.0,>=3.18.0 in /usr/local/lib/python3.11/dist-packages (from dataclasses-json<0.7,>=0.5.7->langchain_community) (3.26.1)\n",
      "Requirement already satisfied: typing-inspect<1,>=0.4.0 in /usr/local/lib/python3.11/dist-packages (from dataclasses-json<0.7,>=0.5.7->langchain_community) (0.9.0)\n",
      "Requirement already satisfied: langchain-text-splitters<1.0.0,>=0.3.8 in /usr/local/lib/python3.11/dist-packages (from langchain<1.0.0,>=0.3.25->langchain_community) (0.3.8)\n",
      "Requirement already satisfied: pydantic<3.0.0,>=2.7.4 in /usr/local/lib/python3.11/dist-packages (from langchain<1.0.0,>=0.3.25->langchain_community) (2.11.5)\n",
      "Requirement already satisfied: jsonpatch<2.0,>=1.33 in /usr/local/lib/python3.11/dist-packages (from langchain-core<1.0.0,>=0.3.59->langchain_community) (1.33)\n",
      "Requirement already satisfied: packaging<25,>=23.2 in /usr/local/lib/python3.11/dist-packages (from langchain-core<1.0.0,>=0.3.59->langchain_community) (24.2)\n",
      "Requirement already satisfied: typing-extensions>=4.7 in /usr/local/lib/python3.11/dist-packages (from langchain-core<1.0.0,>=0.3.59->langchain_community) (4.13.2)\n",
      "Requirement already satisfied: httpx<1,>=0.23.0 in /usr/local/lib/python3.11/dist-packages (from langsmith<0.4,>=0.1.125->langchain_community) (0.28.1)\n",
      "Requirement already satisfied: orjson<4.0.0,>=3.9.14 in /usr/local/lib/python3.11/dist-packages (from langsmith<0.4,>=0.1.125->langchain_community) (3.10.18)\n",
      "Requirement already satisfied: requests-toolbelt<2.0.0,>=1.0.0 in /usr/local/lib/python3.11/dist-packages (from langsmith<0.4,>=0.1.125->langchain_community) (1.0.0)\n",
      "Requirement already satisfied: zstandard<0.24.0,>=0.23.0 in /usr/local/lib/python3.11/dist-packages (from langsmith<0.4,>=0.1.125->langchain_community) (0.23.0)\n",
      "Requirement already satisfied: python-dotenv>=0.21.0 in /usr/local/lib/python3.11/dist-packages (from pydantic-settings<3.0.0,>=2.4.0->langchain_community) (1.1.0)\n",
      "Requirement already satisfied: typing-inspection>=0.4.0 in /usr/local/lib/python3.11/dist-packages (from pydantic-settings<3.0.0,>=2.4.0->langchain_community) (0.4.1)\n",
      "Requirement already satisfied: charset-normalizer<4,>=2 in /usr/local/lib/python3.11/dist-packages (from requests<3,>=2->langchain_community) (3.4.2)\n",
      "Requirement already satisfied: idna<4,>=2.5 in /usr/local/lib/python3.11/dist-packages (from requests<3,>=2->langchain_community) (3.10)\n",
      "Requirement already satisfied: urllib3<3,>=1.21.1 in /usr/local/lib/python3.11/dist-packages (from requests<3,>=2->langchain_community) (2.4.0)\n",
      "Requirement already satisfied: certifi>=2017.4.17 in /usr/local/lib/python3.11/dist-packages (from requests<3,>=2->langchain_community) (2025.4.26)\n",
      "Requirement already satisfied: greenlet>=1 in /usr/local/lib/python3.11/dist-packages (from SQLAlchemy<3,>=1.4->langchain_community) (3.2.2)\n",
      "Requirement already satisfied: anyio in /usr/local/lib/python3.11/dist-packages (from httpx<1,>=0.23.0->langsmith<0.4,>=0.1.125->langchain_community) (4.9.0)\n",
      "Requirement already satisfied: httpcore==1.* in /usr/local/lib/python3.11/dist-packages (from httpx<1,>=0.23.0->langsmith<0.4,>=0.1.125->langchain_community) (1.0.9)\n",
      "Requirement already satisfied: h11>=0.16 in /usr/local/lib/python3.11/dist-packages (from httpcore==1.*->httpx<1,>=0.23.0->langsmith<0.4,>=0.1.125->langchain_community) (0.16.0)\n",
      "Requirement already satisfied: jsonpointer>=1.9 in /usr/local/lib/python3.11/dist-packages (from jsonpatch<2.0,>=1.33->langchain-core<1.0.0,>=0.3.59->langchain_community) (3.0.0)\n",
      "Requirement already satisfied: annotated-types>=0.6.0 in /usr/local/lib/python3.11/dist-packages (from pydantic<3.0.0,>=2.7.4->langchain<1.0.0,>=0.3.25->langchain_community) (0.7.0)\n",
      "Requirement already satisfied: pydantic-core==2.33.2 in /usr/local/lib/python3.11/dist-packages (from pydantic<3.0.0,>=2.7.4->langchain<1.0.0,>=0.3.25->langchain_community) (2.33.2)\n",
      "Requirement already satisfied: mypy-extensions>=0.3.0 in /usr/local/lib/python3.11/dist-packages (from typing-inspect<1,>=0.4.0->dataclasses-json<0.7,>=0.5.7->langchain_community) (1.1.0)\n",
      "Requirement already satisfied: sniffio>=1.1 in /usr/local/lib/python3.11/dist-packages (from anyio->httpx<1,>=0.23.0->langsmith<0.4,>=0.1.125->langchain_community) (1.3.1)\n"
     ]
    }
   ],
   "source": [
    "!pip install langchain_community"
   ]
  },
  {
   "cell_type": "code",
   "execution_count": null,
   "metadata": {
    "id": "z9QpI_-yIGJT"
   },
   "outputs": [],
   "source": [
    "# !pip install sentence-transformers"
   ]
  },
  {
   "cell_type": "code",
   "execution_count": null,
   "metadata": {
    "colab": {
     "base_uri": "https://localhost:8080/"
    },
    "executionInfo": {
     "elapsed": 4213,
     "status": "ok",
     "timestamp": 1749065032507,
     "user": {
      "displayName": "abdul azizakash",
      "userId": "06305379687843862792"
     },
     "user_tz": -360
    },
    "id": "9DDhKZHhIfpm",
    "outputId": "071bb3ae-675a-4435-c5d0-3e2859e937b2"
   },
   "outputs": [
    {
     "name": "stdout",
     "output_type": "stream",
     "text": [
      "Requirement already satisfied: langchain-community in /usr/local/lib/python3.11/dist-packages (0.3.24)\n",
      "Requirement already satisfied: huggingface_hub in /usr/local/lib/python3.11/dist-packages (0.32.4)\n",
      "Requirement already satisfied: langchain-core<1.0.0,>=0.3.59 in /usr/local/lib/python3.11/dist-packages (from langchain-community) (0.3.63)\n",
      "Requirement already satisfied: langchain<1.0.0,>=0.3.25 in /usr/local/lib/python3.11/dist-packages (from langchain-community) (0.3.25)\n",
      "Requirement already satisfied: SQLAlchemy<3,>=1.4 in /usr/local/lib/python3.11/dist-packages (from langchain-community) (2.0.41)\n",
      "Requirement already satisfied: requests<3,>=2 in /usr/local/lib/python3.11/dist-packages (from langchain-community) (2.32.3)\n",
      "Requirement already satisfied: PyYAML>=5.3 in /usr/local/lib/python3.11/dist-packages (from langchain-community) (6.0.2)\n",
      "Requirement already satisfied: aiohttp<4.0.0,>=3.8.3 in /usr/local/lib/python3.11/dist-packages (from langchain-community) (3.11.15)\n",
      "Requirement already satisfied: tenacity!=8.4.0,<10,>=8.1.0 in /usr/local/lib/python3.11/dist-packages (from langchain-community) (9.1.2)\n",
      "Requirement already satisfied: dataclasses-json<0.7,>=0.5.7 in /usr/local/lib/python3.11/dist-packages (from langchain-community) (0.6.7)\n",
      "Requirement already satisfied: pydantic-settings<3.0.0,>=2.4.0 in /usr/local/lib/python3.11/dist-packages (from langchain-community) (2.9.1)\n",
      "Requirement already satisfied: langsmith<0.4,>=0.1.125 in /usr/local/lib/python3.11/dist-packages (from langchain-community) (0.3.43)\n",
      "Requirement already satisfied: httpx-sse<1.0.0,>=0.4.0 in /usr/local/lib/python3.11/dist-packages (from langchain-community) (0.4.0)\n",
      "Requirement already satisfied: numpy>=1.26.2 in /usr/local/lib/python3.11/dist-packages (from langchain-community) (1.26.4)\n",
      "Requirement already satisfied: filelock in /usr/local/lib/python3.11/dist-packages (from huggingface_hub) (3.18.0)\n",
      "Requirement already satisfied: fsspec>=2023.5.0 in /usr/local/lib/python3.11/dist-packages (from huggingface_hub) (2025.3.2)\n",
      "Requirement already satisfied: packaging>=20.9 in /usr/local/lib/python3.11/dist-packages (from huggingface_hub) (24.2)\n",
      "Requirement already satisfied: tqdm>=4.42.1 in /usr/local/lib/python3.11/dist-packages (from huggingface_hub) (4.67.1)\n",
      "Requirement already satisfied: typing-extensions>=3.7.4.3 in /usr/local/lib/python3.11/dist-packages (from huggingface_hub) (4.13.2)\n",
      "Requirement already satisfied: hf-xet<2.0.0,>=1.1.2 in /usr/local/lib/python3.11/dist-packages (from huggingface_hub) (1.1.2)\n",
      "Requirement already satisfied: aiohappyeyeballs>=2.3.0 in /usr/local/lib/python3.11/dist-packages (from aiohttp<4.0.0,>=3.8.3->langchain-community) (2.6.1)\n",
      "Requirement already satisfied: aiosignal>=1.1.2 in /usr/local/lib/python3.11/dist-packages (from aiohttp<4.0.0,>=3.8.3->langchain-community) (1.3.2)\n",
      "Requirement already satisfied: attrs>=17.3.0 in /usr/local/lib/python3.11/dist-packages (from aiohttp<4.0.0,>=3.8.3->langchain-community) (25.3.0)\n",
      "Requirement already satisfied: frozenlist>=1.1.1 in /usr/local/lib/python3.11/dist-packages (from aiohttp<4.0.0,>=3.8.3->langchain-community) (1.6.0)\n",
      "Requirement already satisfied: multidict<7.0,>=4.5 in /usr/local/lib/python3.11/dist-packages (from aiohttp<4.0.0,>=3.8.3->langchain-community) (6.4.4)\n",
      "Requirement already satisfied: propcache>=0.2.0 in /usr/local/lib/python3.11/dist-packages (from aiohttp<4.0.0,>=3.8.3->langchain-community) (0.3.1)\n",
      "Requirement already satisfied: yarl<2.0,>=1.17.0 in /usr/local/lib/python3.11/dist-packages (from aiohttp<4.0.0,>=3.8.3->langchain-community) (1.20.0)\n",
      "Requirement already satisfied: marshmallow<4.0.0,>=3.18.0 in /usr/local/lib/python3.11/dist-packages (from dataclasses-json<0.7,>=0.5.7->langchain-community) (3.26.1)\n",
      "Requirement already satisfied: typing-inspect<1,>=0.4.0 in /usr/local/lib/python3.11/dist-packages (from dataclasses-json<0.7,>=0.5.7->langchain-community) (0.9.0)\n",
      "Requirement already satisfied: langchain-text-splitters<1.0.0,>=0.3.8 in /usr/local/lib/python3.11/dist-packages (from langchain<1.0.0,>=0.3.25->langchain-community) (0.3.8)\n",
      "Requirement already satisfied: pydantic<3.0.0,>=2.7.4 in /usr/local/lib/python3.11/dist-packages (from langchain<1.0.0,>=0.3.25->langchain-community) (2.11.5)\n",
      "Requirement already satisfied: jsonpatch<2.0,>=1.33 in /usr/local/lib/python3.11/dist-packages (from langchain-core<1.0.0,>=0.3.59->langchain-community) (1.33)\n",
      "Requirement already satisfied: httpx<1,>=0.23.0 in /usr/local/lib/python3.11/dist-packages (from langsmith<0.4,>=0.1.125->langchain-community) (0.28.1)\n",
      "Requirement already satisfied: orjson<4.0.0,>=3.9.14 in /usr/local/lib/python3.11/dist-packages (from langsmith<0.4,>=0.1.125->langchain-community) (3.10.18)\n",
      "Requirement already satisfied: requests-toolbelt<2.0.0,>=1.0.0 in /usr/local/lib/python3.11/dist-packages (from langsmith<0.4,>=0.1.125->langchain-community) (1.0.0)\n",
      "Requirement already satisfied: zstandard<0.24.0,>=0.23.0 in /usr/local/lib/python3.11/dist-packages (from langsmith<0.4,>=0.1.125->langchain-community) (0.23.0)\n",
      "Requirement already satisfied: python-dotenv>=0.21.0 in /usr/local/lib/python3.11/dist-packages (from pydantic-settings<3.0.0,>=2.4.0->langchain-community) (1.1.0)\n",
      "Requirement already satisfied: typing-inspection>=0.4.0 in /usr/local/lib/python3.11/dist-packages (from pydantic-settings<3.0.0,>=2.4.0->langchain-community) (0.4.1)\n",
      "Requirement already satisfied: charset-normalizer<4,>=2 in /usr/local/lib/python3.11/dist-packages (from requests<3,>=2->langchain-community) (3.4.2)\n",
      "Requirement already satisfied: idna<4,>=2.5 in /usr/local/lib/python3.11/dist-packages (from requests<3,>=2->langchain-community) (3.10)\n",
      "Requirement already satisfied: urllib3<3,>=1.21.1 in /usr/local/lib/python3.11/dist-packages (from requests<3,>=2->langchain-community) (2.4.0)\n",
      "Requirement already satisfied: certifi>=2017.4.17 in /usr/local/lib/python3.11/dist-packages (from requests<3,>=2->langchain-community) (2025.4.26)\n",
      "Requirement already satisfied: greenlet>=1 in /usr/local/lib/python3.11/dist-packages (from SQLAlchemy<3,>=1.4->langchain-community) (3.2.2)\n",
      "Requirement already satisfied: anyio in /usr/local/lib/python3.11/dist-packages (from httpx<1,>=0.23.0->langsmith<0.4,>=0.1.125->langchain-community) (4.9.0)\n",
      "Requirement already satisfied: httpcore==1.* in /usr/local/lib/python3.11/dist-packages (from httpx<1,>=0.23.0->langsmith<0.4,>=0.1.125->langchain-community) (1.0.9)\n",
      "Requirement already satisfied: h11>=0.16 in /usr/local/lib/python3.11/dist-packages (from httpcore==1.*->httpx<1,>=0.23.0->langsmith<0.4,>=0.1.125->langchain-community) (0.16.0)\n",
      "Requirement already satisfied: jsonpointer>=1.9 in /usr/local/lib/python3.11/dist-packages (from jsonpatch<2.0,>=1.33->langchain-core<1.0.0,>=0.3.59->langchain-community) (3.0.0)\n",
      "Requirement already satisfied: annotated-types>=0.6.0 in /usr/local/lib/python3.11/dist-packages (from pydantic<3.0.0,>=2.7.4->langchain<1.0.0,>=0.3.25->langchain-community) (0.7.0)\n",
      "Requirement already satisfied: pydantic-core==2.33.2 in /usr/local/lib/python3.11/dist-packages (from pydantic<3.0.0,>=2.7.4->langchain<1.0.0,>=0.3.25->langchain-community) (2.33.2)\n",
      "Requirement already satisfied: mypy-extensions>=0.3.0 in /usr/local/lib/python3.11/dist-packages (from typing-inspect<1,>=0.4.0->dataclasses-json<0.7,>=0.5.7->langchain-community) (1.1.0)\n",
      "Requirement already satisfied: sniffio>=1.1 in /usr/local/lib/python3.11/dist-packages (from anyio->httpx<1,>=0.23.0->langsmith<0.4,>=0.1.125->langchain-community) (1.3.1)\n"
     ]
    }
   ],
   "source": [
    "!pip install --upgrade langchain-community huggingface_hub"
   ]
  },
  {
   "cell_type": "code",
   "execution_count": null,
   "metadata": {
    "id": "h-Kw1uasJ45f"
   },
   "outputs": [],
   "source": [
    "# from langchain.embeddings import HuggingFaceEmbeddings\n",
    "\n",
    "# embeddings = HuggingFaceEmbeddings(model_name=\"all-MiniLM-L6-v2\")"
   ]
  },
  {
   "cell_type": "code",
   "execution_count": null,
   "metadata": {
    "colab": {
     "base_uri": "https://localhost:8080/"
    },
    "executionInfo": {
     "elapsed": 3816,
     "status": "ok",
     "timestamp": 1749065036390,
     "user": {
      "displayName": "abdul azizakash",
      "userId": "06305379687843862792"
     },
     "user_tz": -360
    },
    "id": "qFatOnTKJK9w",
    "outputId": "49aa27b0-0727-422b-ae3e-0dbdcd20ea6e"
   },
   "outputs": [
    {
     "name": "stdout",
     "output_type": "stream",
     "text": [
      "[[0.00727997999638319, 0.031282395124435425, 0.042269572615623474, -0.006348561495542526, -0.007752950303256512, 0.04410851001739502, 0.0590987466275692, 0.04548809677362442, -0.02227294258773327, -0.03785543516278267, -0.006712988018989563, -0.003362990915775299, -0.08337988704442978, -0.005158690270036459, 0.01829081028699875, 0.051177989691495895, 0.03137902542948723, 0.01345100998878479, 0.006205123383551836, 0.03658396378159523, -0.03430967777967453, 0.004967953078448772, 0.03619927912950516, 0.013945563696324825, 0.021238399669528008, -0.03004315309226513, -0.02377571165561676, 0.012912238948047161, -0.11165976524353027, 0.0009536909637972713, 0.012539404444396496, 0.015945786610245705, 0.020773740485310555, -0.054188281297683716, -0.0015681317308917642, 0.020795566961169243, 0.008812276646494865, -0.0031685989815741777, -0.016219303011894226, -0.013779859989881516, -0.009815237484872341, -0.0372767336666584, -0.01713637262582779, 0.02806137129664421, -0.04146610572934151, -0.03322599083185196, -0.03695297613739967, 0.05404575169086456, -0.0368410125374794, -0.0022650775499641895, -0.026994986459612846, 0.059805046766996384, 0.04759495332837105, 0.0002769240236375481, -0.03188645467162132, 0.030787792056798935, -0.020175326615571976, -0.03342575579881668, -0.056830842047929764, -0.05335477739572525, 0.004736205562949181, -0.020822299644351006, 0.014327013865113258, -0.00836166925728321, 0.026310618966817856, 0.030517583712935448, 0.01912922039628029, 0.025340966880321503, -0.025956949219107628, 0.037813328206539154, 0.009930015541613102, 0.0026851913426071405, -0.009672588668763638, -0.020793313160538673, 0.034538719803094864, -0.05541705712676048, 0.028254536911845207, 0.025134868919849396, -0.013903284445405006, 0.035643529146909714, 0.0028189641889184713, 0.004846724681556225, 0.028751688078045845, 0.07130718231201172, -0.0034961369819939137, -0.06462430953979492, -0.0095661710947752, 0.020031597465276718, -0.03446824848651886, 0.023701384663581848, -0.021853027865290642, -0.05462459474802017, 0.03787269815802574, 0.032514698803424835, 0.02537291683256626, -0.04112793132662773, -8.858634828357026e-05, 0.03478102758526802, -0.030888358131051064, 0.029184341430664062, -0.0496651791036129, -0.060614991933107376, 0.030085956677794456, -0.0356123112142086, -0.05245603993535042, -0.015025055035948753, -0.011184511706233025, -0.026364648714661598, 0.02087557129561901, 0.04742301627993584, 0.019046353176236153, -0.0343577116727829, -0.009787878021597862, -0.04204834625124931, -0.027921311557292938, 0.09232541173696518, 0.022975198924541473, -0.053645722568035126, -0.018646296113729477, -0.05469578132033348, -0.0020479694940149784, 0.044447217136621475, -0.03909230977296829, 0.08848822116851807, 0.035075683146715164, 0.054668113589286804, 0.012064291164278984, 0.06784570962190628, -0.0003225906111765653, -0.09096773713827133, 0.05030730739235878, 0.019358644261956215, 0.04744214937090874, 0.004978046752512455, 0.023054637014865875, -0.00472177704796195, 0.004074563272297382, -0.030575817450881004, -0.011718210764229298, -0.028777241706848145, -0.0391850583255291, -0.0449136421084404, 0.003135706065222621, 0.0188053697347641, 0.05570349842309952, -0.0448358915746212, -0.024149948731064796, -0.025517314672470093, -0.061554502695798874, 0.012057763524353504, -0.06100098043680191, -0.028822388499975204, -0.04688576981425285, 0.012328213080763817, 0.044257137924432755, 0.02297145314514637, -0.012714684940874577, 0.01407494954764843, -0.05762970820069313, 0.039032090455293655, 0.0039788284339010715, -0.008843834511935711, 0.01751892641186714, 0.037811946123838425, -0.03175805136561394, 0.011411219835281372, 0.07179878652095795, -0.012403967790305614, 0.03387041762471199, 0.024938570335507393, -0.00523112528026104, -0.03231809288263321, 0.021140504628419876, -0.004949827212840319, -0.002893197350203991, 0.03874069079756737, 0.12139958888292313, -0.04554866999387741, -0.012111138552427292, 0.0349084846675396, -0.0732157975435257, 0.01154588907957077, -0.029834304004907608, 0.04122345149517059, 0.019310513511300087, -0.03368028253316879, 0.03337058424949646, -0.01779232732951641, -0.000352992006810382, 0.005948428064584732, -0.06871182471513748, -0.03986992686986923, -0.006061606574803591, 0.006936490535736084, 0.046463776379823685, 0.04494538530707359, -0.026413777843117714, 0.03996123746037483, -0.026810983195900917, 0.024227244779467583, 0.016499275341629982, 0.020960822701454163, 0.036371804773807526, -0.01336898747831583, -0.03321235626935959, 0.056764617562294006, 0.02259189262986183, 0.000876709062140435, -0.03386225551366806, -0.004394126124680042, -0.03657664731144905, -0.02508278377354145, 0.060545291751623154, 0.042043834924697876, 0.0024542149621993303, 0.0594160221517086, 0.008799472823739052, -0.016279347240924835, -0.043016839772462845, 0.0005147699266672134, 0.029917897656559944, -0.01539189089089632, -0.02681628055870533, 0.062348898500204086, 0.03746633231639862, 0.0921134501695633, 0.029154203832149506, -0.03934376314282417, -0.012497544288635254, -0.03888893872499466, 0.03446149453520775, -0.029609419405460358, 0.07920977473258972, 0.02742188237607479, -0.032845672219991684, 0.03263264149427414, 0.0049631367437541485, -0.03862927854061127, 0.07121612131595612, -0.044431544840335846, -0.04629797860980034, -0.0015916612464934587, 0.005208818707615137, 0.052919913083314896, -0.004381558857858181, -0.02918037585914135, 0.03190991282463074, -0.019375531002879143, -0.025669701397418976, 0.02708345837891102, -0.015957338735461235, -0.017415491864085197, 0.03327122703194618, 0.02970696985721588, -0.02061692252755165, -0.03767864778637886, -0.027588633820414543, 0.01856210269033909, 0.11926104128360748, 0.05330789461731911, -0.01989496313035488, -0.007541072554886341, 0.010844255797564983, 0.0037737495731562376, -0.0393490344285965, -0.06734470278024673, -0.03625473007559776, 0.017781808972358704, 0.036422040313482285, -0.00786832720041275, 0.019418256357312202, 0.0005286372033879161, -0.009135188534855843, 0.0019964370876550674, 0.02930082194507122, -0.013122371397912502, 0.0459054596722126, -0.031287770718336105, -0.02009447105228901, -0.06413265317678452, 0.01375552173703909, 0.04707248881459236, -0.021152818575501442, -0.0320257730782032, 0.001225566491484642, -0.02906487137079239, 0.036744676530361176, -0.034213386476039886, -0.0486893467605114, -0.007352820597589016, 0.02502506785094738, 0.0356941856443882, -0.017466014251112938, 0.04777480661869049, 0.027408486232161522, -0.012534339912235737, -0.00574449822306633, 0.003604395780712366, -0.026682479307055473, -0.010847962461411953, 0.0512688010931015, 0.010460605844855309, 0.03779778629541397, -0.02536517009139061, -0.002016787650063634, 0.01195397600531578, 0.04535733163356781, -0.03910861164331436, -0.3353548049926758, -0.00980827771127224, 0.025157013908028603, -0.04613283649086952, 0.06677284091711044, -0.04358475282788277, 0.02694176696240902, -0.023226642981171608, -0.024631448090076447, 0.02598479762673378, -0.010140233673155308, 0.03192378953099251, -0.005950033199042082, 0.03240247070789337, 0.021363960579037666, 0.01688675582408905, -0.01054984237998724, -0.009157447144389153, 0.016175244003534317, -0.009492134675383568, 0.008342234417796135, -0.016525570303201675, 0.002076113596558571, 0.013425745069980621, -0.024149412289261818, 0.026971783488988876, -0.027785176411271095, -0.012087896466255188, -0.025032611563801765, 0.01529600564390421, 0.02704201452434063, -0.06384430080652237, -0.018139595165848732, -0.019038232043385506, 0.003558792406693101, -0.015324962325394154, 0.004451087210327387, -0.023953905329108238, 0.013530636206269264, -0.05473502352833748, 0.006432902533560991, -0.062394700944423676, 0.022135792300105095, -0.03355913981795311, 0.05223493650555611, 0.0032820298802107573, 0.04324764013290405, -0.022528136149048805, -0.023483265191316605, 0.02031773515045643, -0.0189463309943676, -0.002435472793877125, -0.006666915491223335, -0.022904742509126663, -0.005307456012815237, 0.027361342683434486, 0.003329668426886201, 0.01786789856851101, -0.0283955205231905, -0.0013562431558966637, 0.017059363424777985, -0.013673028908669949, -0.0075210630893707275, -0.027221620082855225, 0.0223048347979784, -0.03242596238851547, -0.04338027909398079, -0.019858136773109436, 0.058724887669086456, 0.010800698772072792, -0.001289214938879013, -0.003674304811283946, -0.00988688226789236, -0.037942275404930115, -0.04137006402015686, -0.04751071333885193, -0.020943161100149155, -0.04690570384263992, 0.0005869441665709019, -0.011271068826317787, -0.06302645057439804, 0.008666282519698143, 0.025796426460146904, 0.02594395913183689, -0.04039682820439339, -0.05716416984796524, 0.029722368344664574, -0.01723427325487137, -0.02647254429757595, 0.0038414124865084887, 0.03658623248338699, -0.0432962141931057, -0.046399373561143875, -0.002434314927086234, 0.052702680230140686, -0.006016736384481192, -0.027920154854655266, -0.0025473691057413816, 0.03327929601073265, 0.023972345516085625, 0.060812707990407944, -0.05786435678601265, 0.016735056415200233, 0.032744165509939194, 0.02710147388279438, 0.03532281517982483, -0.010049448348581791, -0.0016683744033798575, 0.047528184950351715, 0.0003643756208475679, 0.021127890795469284, 0.00927960779517889, -0.0036415166687220335, -0.07432391494512558, 0.030842099338769913, -0.03928558900952339, 0.019213559105992317, 0.04149596020579338, 0.004995731171220541, 0.0055771819315850735, 0.004373432137072086, 0.03850264474749565, -0.06734172999858856, 0.004286979790776968, -0.04919047653675079, -0.012491732835769653, 0.040150512009859085, 0.020526591688394547, -0.009103232994675636, -0.06329550594091415, -0.041535552591085434, -0.010776708833873272, 0.020077502354979515, -0.018646834418177605, 0.05473734438419342, 0.03314930200576782, -0.041764017194509506, -0.04461100697517395, -0.0004943000967614353, 0.003645295510068536, 0.03554000332951546, 0.0002002057881327346, 0.0048422664403915405, 0.007897845469415188, 0.03012404590845108, 0.035384565591812134, -0.030654162168502808, -0.015799561515450478, 0.0024432181380689144, -0.028031734749674797, -0.013388768769800663, 0.005316839087754488, 0.0008738618344068527, -0.05736515671014786, -0.01545392069965601, -0.057979680597782135, 0.048408448696136475, 0.006525107659399509, -0.017536509782075882, -0.021096836775541306, 0.044281311333179474, -0.06350509077310562, -0.0024214540608227253, -0.014649329707026482, 0.020190585404634476, 0.051568202674388885, -0.031003566458821297, -0.01888667605817318, -0.01574859581887722, -0.026254454627633095, 0.06548091024160385, -0.002417533425614238, 0.0014222974423319101, -0.00874197855591774, -0.03256198391318321, 0.010364928282797337, -0.006103148218244314, 0.013587611727416515, 0.03664026036858559, 0.029582666233181953, -0.023066038265824318, -0.03181349113583565, -0.04351453483104706, 0.018175508826971054, 0.058533307164907455, -0.018730346113443375, 0.05340920761227608, -0.016913169994950294, 0.03673013672232628, 0.04910055920481682, -0.026485323905944824, 0.06602425873279572, 0.02024354599416256, 0.012669872492551804, -0.04687562957406044, -0.08940822631120682, -0.027415292337536812, -3.7542216887231916e-05, -0.03672998026013374, 0.0013991387095302343, -0.021283553913235664, -0.029200119897723198, -0.011262571439146996, -0.016080668196082115, 0.00406687892973423, -0.08181962370872498, 0.03858216106891632, -0.015277016907930374, 0.0001066949189407751, 0.03725762665271759, -0.01433714758604765, -0.026937279850244522, 0.004462212324142456, -0.04380669817328453, 0.015290851704776287, -0.07872351258993149, -0.034653544425964355, 0.018357209861278534, 0.03627296909689903, -0.015133798122406006, -0.0003603478253353387, -0.009534175507724285, 0.040614642202854156, -0.02650177851319313, -0.030653590336441994, -0.015051624737679958, -0.03710412234067917, -0.018373416736721992, 0.02167583256959915, -0.020646512508392334, 0.03430523723363876, 0.010929382406175137, 0.002247655065730214, 0.026151133701205254, -0.0354522280395031, 0.07004053890705109, -0.07242157310247421, 0.005771629977971315, -0.011698605492711067, 0.06837650388479233, 0.04496220126748085, -0.007283488288521767, 0.01985934190452099, -0.052867114543914795, -0.013492118567228317, 0.051081713289022446, -0.017032725736498833, 0.037670910358428955, 0.03129146248102188, 0.003935623448342085, -0.0036615931894630194, 0.017055382952094078, 0.013737425208091736, -0.005039149895310402, -0.016009468585252762, -0.0436440110206604, -0.04937577620148659, 0.024705465883016586, -0.03731289878487587, -0.0167060699313879, 0.024527154862880707, 0.016628026962280273, -0.025227079167962074, 0.029996143653988838, 0.04503154009580612, 0.036058712750673294, 0.0030564735643565655, -0.027195286005735397, 0.05122941732406616, 0.014396103098988533, -0.01975255459547043, -0.06947005540132523, -0.00031229201704263687, -0.004251978360116482, 0.030737414956092834, -0.0296078622341156, 0.0003782420826610178, 0.025216270238161087, -0.007739160675555468, -0.03609814867377281, -0.01754644513130188, 0.05542568862438202, 0.004662772640585899, -0.022113028913736343, 0.010385553352534771, -0.059069618582725525, 0.03384742885828018, -0.03624184802174568, -0.0445479191839695, 0.01244695857167244, -0.04274957254528999, 0.05336746200919151, 0.005295255687087774, 0.049561843276023865, -0.01550886407494545, 0.0012891071382910013, 0.038648754358291626, 0.05690392851829529, -0.04999960958957672, 0.013187584467232227, 0.02277643047273159, 0.03814268857240677, 0.04043282940983772, -0.040955137461423874, -0.02269674651324749, -0.02858653850853443, -0.0055164373479783535, -0.02798268012702465, -0.027195801958441734, 0.02528470940887928, 0.02293609082698822, -0.05317629873752594, 0.07756277173757553, 0.03627777844667435, -0.03453100100159645, 0.029820015653967857, 0.006632577162235975, -0.04556681215763092, -0.031036658212542534, 0.03596922755241394, -0.03159729391336441, -0.000928205088712275, 0.0405510775744915, 0.029400337487459183, 0.023670930415391922, 0.012520380318164825, -0.03555247187614441, -0.011981754563748837, -0.01254397165030241, 0.04071836918592453, 0.03465498611330986, 0.020318569615483284, -0.017570216208696365, 0.0463852733373642, -0.05217794328927994, -0.04206058382987976, 0.020355181768536568, -0.015197060070931911, -0.010504529811441898, 0.03360754996538162, -0.03496904671192169, 0.043047308921813965, 0.008009362034499645, 0.036034729331731796, 0.01999134197831154, -0.03471836820244789, 0.020318370312452316, 0.02288389950990677, 0.018193447962403297, -0.005958045832812786, 0.04367205128073692, 0.06025129556655884, 0.002903217449784279, -0.02534145675599575, 0.029788557440042496, -0.026835910975933075, 0.0022154052276164293, 0.005346165969967842, -0.022108949720859528, -0.01665286347270012, -0.02368929795920849, -0.01145582552999258, 0.05298920348286629, -0.010245031677186489, 0.010793935507535934, -0.006086830515414476, 0.033081453293561935, 0.03843998908996582, 0.03053874336183071, 0.007207079790532589, 0.028701219707727432, 0.040452346205711365, 0.011338970623910427, 0.028223427012562752, 0.009515441954135895, -0.008180509321391582, 0.017086360603570938, -0.036651886999607086, -0.01858430542051792, 0.015557406470179558, 0.017768170684576035, -0.026725610718131065, -0.011990793980658054, -0.016061583533883095, -0.025645434856414795, -0.02324550412595272, 0.008110087364912033, -0.01857113279402256, -0.02380681224167347, -0.05129312723875046, 0.003607527120038867, -0.0778050348162651, -0.025734715163707733, 0.0010273762745782733, -0.018631499260663986, -0.01743772253394127, 0.07053537666797638, 0.029668573290109634, -0.012417235411703587, 0.03520069643855095, 0.0692298486828804, 0.01565394550561905, -0.016946643590927124, -0.01893812231719494, 0.006379434373229742, 0.05827273428440094, -0.03804687410593033, 0.007615833543241024, -0.07432078570127487, 0.020382506772875786, 0.03369325399398804, -0.014064797200262547, -0.06268010288476944, 0.02846154384315014, -0.017513984814286232, -0.01646421104669571, 0.014632980339229107, 0.010506120510399342, 0.04867841675877571, -0.0449618399143219, -0.008941452950239182, -0.026290135458111763, -0.03575447201728821, 0.044771648943424225, -0.04383311793208122, 0.04139337316155434, -0.020012961700558662, 0.052034642547369, -0.03301732614636421, 0.024682028219103813, 0.02927396632730961, 0.007397357374429703, -0.025750072672963142, 0.05600778013467789, 0.017567381262779236, -0.11422686278820038, -0.0023137563839554787, 0.03529137372970581, 0.025260746479034424, -0.0403381809592247, 0.009806443005800247, 0.004384708125144243, 0.010551298037171364, 0.010054375045001507, -0.04754026234149933, -0.0031038725282996893, -0.0077506848610937595, -0.021244417876005173, -0.060985323041677475, -0.0130769032984972, 0.024360783398151398, -0.030915183946490288, -0.0032359010074287653, -0.06756669282913208, 0.01903311349451542, -0.04704005643725395, -0.024468353018164635, 0.019182905554771423, 0.04775005951523781, -0.0059096054174005985], [0.03626875579357147, 0.023456266149878502, 0.014612806029617786, -0.03882221877574921, 0.01107408944517374, 0.04573582485318184, 0.02794451266527176, 0.029740342870354652, -0.04507072642445564, -0.048452023416757584, -0.0230435561388731, 0.015733662992715836, -0.03566145524382591, -0.036352645605802536, -0.036446914076805115, 0.041476305574178696, 0.06951089203357697, 0.0449657216668129, -0.021061450242996216, 0.028510868549346924, 0.03355175256729126, -0.00021914583339821547, 0.044119302183389664, -0.0027908743359148502, 0.038374163210392, -0.010397872887551785, 0.0402476042509079, 0.018166258931159973, -0.06904704123735428, -0.00721697648987174, 0.029867392033338547, 0.02760365977883339, 0.029259093105793, -0.07304967939853668, 0.019785288721323013, 0.004529979079961777, 0.03254740312695503, 0.008911809884011745, -0.04040326550602913, 0.017653951421380043, -0.011419280432164669, -0.03021080419421196, -0.02236657217144966, 0.026379656046628952, -0.07831156253814697, -0.023457033559679985, 0.013133351691067219, -0.014026273041963577, -0.04104328528046608, -0.008583540096879005, 0.0036451572086662054, 0.05540347471833229, 0.009289870038628578, -0.0036717706825584173, 0.015316235832870007, 0.003098756540566683, 0.00656741950660944, -0.06110014021396637, -0.05935155972838402, -0.025720782577991486, -0.002196655375882983, 0.003125590505078435, -0.005671613849699497, -0.02731352113187313, 0.033725060522556305, 0.02609769068658352, 0.027348613366484642, 0.0173649862408638, -0.044908009469509125, 0.02807883732020855, -0.020589839667081833, 0.0004050846619065851, -0.006221555173397064, -0.01474771648645401, 0.015763066709041595, -0.02998543344438076, 0.004543896298855543, 0.04922731593251228, 0.010143564082682133, 0.03338415175676346, 0.018578622490167618, -0.0211157388985157, -0.022282076999545097, 0.06718426197767258, 0.05507427453994751, -0.05066182091832161, 0.0076734148897230625, 0.035379182547330856, -0.026266343891620636, 0.04517378285527229, 0.009009546600282192, -0.042498499155044556, 0.015512182377278805, 0.04705403372645378, -0.006458049640059471, -0.02939685247838497, 0.04160292074084282, -0.004724408965557814, 0.021071868017315865, 0.003008265048265457, -0.022535348311066628, -0.024517297744750977, 0.04788244143128395, -0.07426059246063232, -0.07523655891418457, -0.030733611434698105, 0.013970847241580486, -0.03102559596300125, 0.017146041616797447, -0.0057142130099236965, -0.02048560045659542, -0.033681970089673996, -0.00849524512887001, -0.011584948748350143, -0.03608362376689911, 0.08497198671102524, 0.04854068532586098, -0.014440756291151047, -0.020392457023262978, -0.010918150655925274, 0.014651114121079445, 0.010008682496845722, -0.0015419021947309375, 0.08088696002960205, 0.020165368914604187, 0.03726639971137047, -0.0380929596722126, 0.04668846353888512, 0.03561611473560333, -0.05353405326604843, 0.010499890893697739, 0.019049888476729393, -0.04131249710917473, 0.05472661554813385, -0.001366995507851243, -0.01584760472178459, 0.035793304443359375, -0.02203322947025299, 0.03263944387435913, -0.015432475134730339, 0.012712434865534306, -0.039951663464307785, 0.005247503984719515, 0.005485139321535826, 0.04180777072906494, -0.03133527562022209, -0.054039932787418365, -0.03569609671831131, 0.03463774174451828, 0.038536883890628815, -0.02340315841138363, -0.030679158866405487, 0.01407750602811575, -0.01817326806485653, -0.015521729364991188, 0.030487604439258575, -0.08422263711690903, -0.006070341914892197, -0.020192405208945274, -0.01689257100224495, 0.007698408327996731, -0.01422925479710102, 0.042776912450790405, 0.01931202970445156, 0.02832614630460739, 0.005384798161685467, -0.00315465172752738, -0.0565984770655632, -0.08164039999246597, -0.028291670605540276, -0.034862156957387924, -0.007008653599768877, 0.038936566561460495, -0.01290016621351242, -0.04007083922624588, -0.03340761363506317, 0.08635976910591125, 0.005794115364551544, -0.02293604239821434, -0.006702921818941832, -0.025538962334394455, 0.018269436433911324, -0.04221045970916748, 0.017616411671042442, 0.013909846544265747, 0.04519572854042053, 0.030533473938703537, 0.028289198875427246, 0.04291543364524841, 0.01742667704820633, -0.04823656752705574, -0.07313616573810577, 0.016915224492549896, 0.02282903902232647, 0.016824159771203995, -0.018081890419125557, 0.00028745384770445526, 0.0700397714972496, -0.0595468245446682, -0.034022007137537, 0.020480558276176453, 0.00832703523337841, 0.012499876320362091, -0.025776848196983337, -0.056179143488407135, 0.08234148472547531, 0.032293908298015594, -0.0005555676762014627, 0.010744684375822544, 0.005810882430523634, -0.042400237172842026, -0.05945442616939545, 0.06575407087802887, 0.007779991719871759, -0.013986798003315926, 0.02074739709496498, -0.020313510671257973, -0.019968096166849136, -0.03339805826544762, -0.014742403291165829, 0.021186966449022293, 0.03996022418141365, -0.010965332388877869, -0.00946422666311264, 0.038902752101421356, 0.06677354127168655, 0.06265895813703537, -0.020478034391999245, -0.02987798862159252, -0.0244966559112072, 0.05078646540641785, -0.012238278985023499, 0.034328628331422806, 0.05604907125234604, -0.031829021871089935, 0.0022166077978909016, 0.007025036495178938, -0.058595165610313416, 0.0759580060839653, -0.07316642999649048, -0.049902401864528656, 0.0450136661529541, 0.0172234196215868, 0.06038147583603859, -0.0020500305108726025, -0.04003605619072914, 0.0024525022599846125, -0.025959301739931107, -0.01784883253276348, 0.012401925399899483, 0.0032730659004300833, -0.031302306801080704, 0.0011020490201190114, 0.027562057599425316, 0.027103377506136894, -0.017176521942019463, 0.030619541183114052, -0.032452329993247986, 0.07069399207830429, 0.06189589947462082, 0.00017307935922872275, -0.00822594203054905, 0.024277064949274063, 0.0167430117726326, -0.0014435946941375732, 6.628387927776203e-05, -0.06609480828046799, -0.011513819918036461, 0.03837274760007858, 0.023915475234389305, 0.05073243007063866, 0.05342020466923714, 0.04640594497323036, 0.011832043528556824, 0.03776950389146805, 0.02754017524421215, 0.032278236001729965, -0.001852029818110168, 0.002334385411813855, -0.07539088279008865, 0.02086678519845009, 0.04690266028046608, -0.01676749624311924, -0.03756073862314224, 0.024738239124417305, -0.08130895346403122, 0.015969552099704742, 0.013793373480439186, -0.0656566172838211, -0.0038720350712537766, 0.058902155607938766, 0.025664592161774635, 0.003417814150452614, 0.006687503308057785, 0.022448601201176643, 0.0009258336503989995, 0.02653568796813488, -0.017675114795565605, -0.022364167496562004, 0.044669706374406815, 0.04810650274157524, -0.005929963663220406, 0.016358157619833946, 0.0016879461472854018, 0.05267040431499481, -0.04210604354739189, -0.012125469744205475, -0.09094454348087311, -0.22654463350772858, 0.0014696128200739622, 0.03698098659515381, -0.04498244822025299, 0.06095045804977417, -0.07746625691652298, 0.008760127238929272, -0.017567988485097885, -0.03522428497672081, 0.0856860801577568, 0.011485811322927475, 0.06280005723237991, -0.016383586451411247, -0.00012893215171061456, 0.07164405286312103, 0.015392043627798557, -0.006358766462653875, -0.07727976888418198, 0.02792499214410782, 0.02639901079237461, 0.011353905312716961, -0.031592801213264465, -0.011733884923160076, 0.057644233107566833, -0.011864576488733292, 0.041477229446172714, -0.05767117068171501, 0.006114967167377472, -0.019363144412636757, -0.015448354184627533, 0.01758546568453312, -0.010935364291071892, 0.024255089461803436, 0.014022253453731537, 0.03473060205578804, -0.00648313295096159, 0.012185498140752316, -0.0059484257362782955, 0.025609206408262253, 0.030089451000094414, -0.006616517435759306, -0.07362225651741028, -0.011770762503147125, -0.03667224943637848, 0.05377301201224327, 0.03979863226413727, -0.0029812816064804792, -0.044425979256629944, -0.016734573990106583, 0.024915553629398346, -0.028505656868219376, -0.026913581416010857, -0.021516788750886917, 0.021465130150318146, -0.010554635897278786, 0.033586759120225906, -0.012036380358040333, 0.01662372425198555, -0.05348135158419609, -0.05569306015968323, 0.0036106971092522144, -0.00640878127887845, 0.009335579350590706, -0.05326152220368385, -0.005299611482769251, -0.05955140292644501, -0.026087850332260132, -0.04660138115286827, 0.09079896658658981, -0.0026811063289642334, 0.001417727442458272, -0.007059166207909584, 0.0014404581161215901, -0.05845163017511368, -0.03913462162017822, 0.011229065246880054, -0.03713109716773033, 0.0156530924141407, -0.019098084419965744, -0.009246377274394035, -0.05874108150601387, -0.0100321089848876, 0.0333651565015316, 0.013030046597123146, -0.006833197548985481, -0.05574248731136322, 0.05164261534810066, -0.0154004180803895, -0.018581347540020943, -0.0023537795059382915, 0.06340663880109787, -0.03322432562708855, -0.03726116940379143, 0.02532445825636387, 0.042655590921640396, 0.008106010034680367, -0.001007819315418601, -0.020415503531694412, 0.02227608487010002, 0.0020249078515917063, 0.021282335743308067, -0.05415400490164757, 0.0008879696251824498, -0.0012723804684355855, -0.005081971641629934, 0.006268465891480446, -0.042779404670000076, 0.019945532083511353, 0.046843696385622025, -0.03702221438288689, 0.013980697840452194, 0.027625441551208496, 0.0068915472365915775, -0.040039848536252975, 0.059756942093372345, -0.07809817045927048, 0.027165450155735016, 0.03675490990281105, 0.023180097341537476, -0.0015810555778443813, -0.04350389540195465, 0.0024413657374680042, -0.01868056319653988, 0.01243706326931715, -0.10604405403137207, -0.03285156562924385, 0.007913962006568909, -0.0031415389385074377, -0.018586860969662666, 0.006342178676277399, 0.006827374454587698, -0.0028589426074177027, 0.010570782236754894, -0.0420474037528038, 0.026183106005191803, 0.013132045976817608, -0.044924650341272354, -0.037242740392684937, -0.07471264153718948, -0.02596460096538067, 0.005517543293535709, -0.015984201803803444, -0.03548118472099304, 0.03158079832792282, 0.010939985513687134, 0.019315389916300774, -0.042301349341869354, -0.032901830971241, -0.020671704784035683, 0.020599672570824623, 0.0008444498525932431, -0.005834274925291538, 0.019357651472091675, -0.042134400457143784, -0.039959605783224106, 0.0190685223788023, 0.029432153329253197, -0.033281080424785614, -0.006078267004340887, -0.012973322533071041, 0.005306074395775795, -0.03674229606986046, -0.020506372675299644, -0.003976178355515003, 0.017387988045811653, 0.05137750878930092, -0.017812125384807587, -0.012965310364961624, 0.014170369133353233, 0.033451519906520844, 0.024540556594729424, -0.0023215455003082752, -0.015402632765471935, -0.003644695971161127, -0.018822407349944115, -0.0031687479931861162, 0.015992434695363045, 0.01830149069428444, 0.03615777567028999, -0.013234813697636127, 0.030085613951086998, -0.018923623487353325, 0.007581447251141071, 0.02746104635298252, 0.07855856418609619, -0.03643600642681122, 0.03971593827009201, 0.0072900885716080666, 0.04140978679060936, 0.005175003781914711, 0.013796490617096424, 0.011571229435503483, 0.026905056089162827, -0.016333652660250664, -0.03947288915514946, -0.05518249794840813, 0.010067039169371128, 0.016501611098647118, -0.019696498289704323, 0.025707995519042015, -0.0028797846753150225, -0.028698358684778214, -0.032507654279470444, 0.017611579969525337, 0.03508714959025383, -0.0838082879781723, 0.01438975054770708, -0.030150072649121284, -0.08440806716680527, -0.018720004707574844, -0.01918243244290352, -0.04121168702840805, 0.000849449192173779, -0.02867138385772705, 0.012971833348274231, -0.06326819956302643, -0.02719547599554062, -0.019235502928495407, -0.01419659424573183, -0.03384118899703026, -0.031290799379348755, -0.016408098861575127, -0.003485586028546095, 0.014490657486021519, -0.029040096327662468, -0.009985900484025478, -0.054873496294021606, -0.04223357141017914, -0.0027194262947887182, -0.017685044556856155, 0.03033856675028801, -0.025096142664551735, 0.04118350148200989, 0.05957264453172684, -0.0741940513253212, -0.02312890626490116, -0.08242926746606827, -0.022178510203957558, -0.010807130485773087, 0.008944405242800713, 0.011556027457118034, 0.007288326043635607, 0.009643304161727428, -0.08995384722948074, -0.0025437430012971163, 0.01272808387875557, 0.03443775698542595, -0.03372538462281227, -0.006597248837351799, -0.007299512159079313, 0.0048486110754311085, 0.010256667621433735, 0.034177184104919434, -0.012541634030640125, 0.014258286915719509, -0.027076341211795807, -0.08819383382797241, 0.02206145040690899, -0.04341831058263779, 0.011968931183218956, 0.041466932743787766, 0.0029593338258564472, -0.008569775149226189, -0.036387331783771515, 0.025208445265889168, 0.009917772375047207, 0.05883677303791046, 0.025065887719392776, 0.021887540817260742, -0.017668383195996284, -0.013068334199488163, -0.006515641696751118, -0.03365999087691307, 0.020735418424010277, -0.0013087793486192822, -0.02194678597152233, -0.04913221672177315, 0.023078331723809242, 0.04822318255901337, -0.046441979706287384, 0.019179800525307655, 0.07545672357082367, 0.0228425282984972, -0.0014479222008958459, 0.057216573506593704, -0.03582596033811569, 0.08364199101924896, 0.015875855460762978, -0.07034938037395477, 0.011950981803238392, 0.005080804228782654, 0.03689039498567581, 0.013630284927785397, 0.04603896290063858, 0.006198348477482796, 0.03989685699343681, 0.015670012682676315, 0.0463210791349411, -0.010189954191446304, 0.048863738775253296, -0.009984179399907589, 0.016461608931422234, 0.02015717886388302, 0.03801381587982178, -0.007919023744761944, 0.028782568871974945, 0.011906024068593979, -0.024683013558387756, 0.04172573983669281, 0.028882142156362534, -0.01414736732840538, -0.07683270424604416, 0.06946519017219543, 0.07194292545318604, -0.03720579296350479, -0.0007247325265780091, 0.04242129623889923, -0.0725177451968193, -0.04292573407292366, 0.018052566796541214, -0.032592013478279114, -0.04144168645143509, 0.04123280197381973, 0.02381044253706932, 0.02055528201162815, 0.011605080217123032, -0.04049806296825409, -0.016842113807797432, 0.02048337273299694, 0.07323011755943298, 0.05284681171178818, 0.06916967779397964, 0.02500617504119873, 0.04808201640844345, -0.001887179329060018, -0.022175971418619156, -0.0016527678817510605, -0.007659717462956905, -0.02504972741007805, 0.04739737510681152, 0.00030262538348324597, 0.017666134983301163, -0.009056552313268185, 0.04714818671345711, 0.021931763738393784, 0.013225679285824299, -0.05495622009038925, 0.042304061353206635, 0.061219289898872375, 0.01365401316434145, 0.03512188792228699, 0.08103134483098984, -0.06049007549881935, -0.03944201394915581, 0.032123394310474396, -0.040063925087451935, -0.04063064604997635, 0.007289119064807892, -0.017535077407956123, -0.002826564945280552, -0.009628449566662312, -0.008583072572946548, 0.05491901934146881, -0.007566489279270172, 0.031773075461387634, -0.047784145921468735, 0.0033636135049164295, 0.022953176870942116, 0.01734248735010624, 0.015580380335450172, -0.015270781703293324, 0.009491842240095139, -0.004241938702762127, -0.002228323370218277, -0.025446061044931412, -0.02897808328270912, 0.024535052478313446, -0.02776343934237957, 0.0022898809984326363, 0.020336657762527466, 0.013454235158860683, -0.03773153945803642, -0.06419428437948227, -0.05322273075580597, -0.022367330268025398, -0.010113071650266647, -0.059524212032556534, -0.0016554024768993258, 0.009781359694898129, -0.06037674844264984, 0.02998507209122181, -0.017437845468521118, -0.004566128831356764, -0.032103899866342545, -0.03383667394518852, -0.013597573153674603, -0.006994770839810371, 0.05391067638993263, 0.008418834768235683, -0.013280441053211689, 0.07703211158514023, 0.009254044853150845, -0.006820125505328178, -0.014667635783553123, -6.765923171769828e-05, 0.0181044340133667, 0.021626392379403114, -0.0024384546559304, -0.062188468873500824, -0.025382455438375473, 0.05573912709951401, -0.01710204780101776, -0.0629548579454422, 0.0290172528475523, 0.0005369810969568789, 0.06477195024490356, 0.03609524667263031, 0.02508971467614174, 0.023192353546619415, -0.0340958833694458, -0.008728650398552418, -0.00985802710056305, 0.017049003392457962, -0.0189240500330925, -0.009174847044050694, 0.08943933993577957, -0.039702486246824265, 0.045668940991163254, -0.06922685354948044, -0.018131816759705544, 0.03946152701973915, 0.019101141020655632, -0.030903100967407227, 0.04618467763066292, 0.0012867666082456708, -0.07330428808927536, -0.026864759624004364, -0.016159363090991974, -0.027126353234052658, -0.0025512895081192255, -0.024165775626897812, -0.05359215289354324, -0.00465078791603446, 0.005301933269947767, -0.01262485608458519, 0.026134122163057327, -0.03195089101791382, -0.022900497540831566, -0.05895882472395897, -0.040761448442935944, 0.024040421470999718, -0.05305495858192444, 0.015914803370833397, -0.04310706630349159, 0.051779769361019135, -0.012816714122891426, -0.04016127809882164, 0.010542655363678932, 0.05686451867222786, -0.017162296921014786]]\n"
     ]
    }
   ],
   "source": [
    "from langchain.embeddings import HuggingFaceEmbeddings\n",
    "\n",
    "hf_embeddings = HuggingFaceEmbeddings(\n",
    "    model_name=\"BAAI/bge-base-en-v1.5\"\n",
    ")\n",
    "\n",
    "texts = [\"Hello, world!\", \"How are you?\"]\n",
    "embeddings = hf_embeddings.embed_documents(texts)\n",
    "print(embeddings)"
   ]
  },
  {
   "cell_type": "code",
   "execution_count": null,
   "metadata": {
    "id": "XFgEI43f-zK6"
   },
   "outputs": [],
   "source": [
    "# from langchain_community.embeddings import HuggingFaceEmbeddings\n",
    "\n",
    "# from langchain.embeddings import HuggingFaceEmbeddings\n",
    "# hf_embeddings = HuggingFaceEmbeddings(model_name=\"all-MiniLM-L6-v2\")"
   ]
  },
  {
   "cell_type": "code",
   "execution_count": null,
   "metadata": {
    "id": "9IVaQhly-4_q"
   },
   "outputs": [],
   "source": [
    "from langchain_astradb import AstraDBVectorStore"
   ]
  },
  {
   "cell_type": "code",
   "execution_count": null,
   "metadata": {
    "id": "x6FzE2kj_bYV"
   },
   "outputs": [],
   "source": [
    "vstore = AstraDBVectorStore(\n",
    "    embedding=hf_embeddings,\n",
    "    collection_name=\"flipkart\",\n",
    "    api_endpoint=ASTRA_DB_API_ENDPOINT,\n",
    "    token=ASTRA_DB_APPLICATION_TOKEN,\n",
    "    namespace=ASTRA_DB_KEYSPACE\n",
    ")"
   ]
  },
  {
   "cell_type": "code",
   "execution_count": null,
   "metadata": {
    "id": "aHeJp4Ne_tU4"
   },
   "outputs": [],
   "source": [
    "insert_ids = vstore.add_documents(docs)"
   ]
  },
  {
   "cell_type": "code",
   "execution_count": null,
   "metadata": {
    "colab": {
     "base_uri": "https://localhost:8080/",
     "height": 35
    },
    "executionInfo": {
     "elapsed": 90,
     "status": "ok",
     "timestamp": 1749065075762,
     "user": {
      "displayName": "abdul azizakash",
      "userId": "06305379687843862792"
     },
     "user_tz": -360
    },
    "id": "HI-ItuEFKspd",
    "outputId": "56a5c210-cb14-4cb3-e6fa-6bc0bc2508ea"
   },
   "outputs": [
    {
     "data": {
      "application/vnd.google.colaboratory.intrinsic+json": {
       "type": "string"
      },
      "text/plain": [
       "'4a60c7aa31234b56b6e60a5ec3e7e49b'"
      ]
     },
     "execution_count": 35,
     "metadata": {},
     "output_type": "execute_result"
    }
   ],
   "source": [
    "insert_ids[0]"
   ]
  },
  {
   "cell_type": "code",
   "execution_count": null,
   "metadata": {
    "id": "gtWEJlUp_3EN"
   },
   "outputs": [],
   "source": [
    "from langchain_groq import ChatGroq"
   ]
  },
  {
   "cell_type": "code",
   "execution_count": null,
   "metadata": {
    "id": "Fr86RltUBj59"
   },
   "outputs": [],
   "source": [
    "from langchain.chains import create_retrieval_chain\n",
    "from langchain.chains.combine_documents import create_stuff_documents_chain\n",
    "from langchain_core.prompts import MessagesPlaceholder\n",
    "from langchain.chains import create_history_aware_retriever"
   ]
  },
  {
   "cell_type": "code",
   "execution_count": null,
   "metadata": {
    "id": "xk8gOfVPAlxl"
   },
   "outputs": [],
   "source": [
    "model = ChatGroq(groq_api_key = GROQ_API, model=\"llama-guard-3-8b\", temperature=0.5)"
   ]
  },
  {
   "cell_type": "markdown",
   "metadata": {
    "id": "M93Rt6rHA2Vk"
   },
   "source": [
    "## Allowing Memory\n",
    "\n",
    "![image.png](data:image/png;base64,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)"
   ]
  },
  {
   "cell_type": "code",
   "execution_count": null,
   "metadata": {
    "id": "ebM3ZKd_AwSP"
   },
   "outputs": [],
   "source": [
    "retriever_prompt = (\"Given a chat history and the latest user question which might reference context in the chat history,\"\n",
    "    \"formulate a standalone question which can be understood without the chat history.\"\n",
    "    \"Do NOT answer the question, just reformulate it if needed and otherwise return it as is.\"\n",
    "    )"
   ]
  },
  {
   "cell_type": "code",
   "execution_count": null,
   "metadata": {
    "id": "m6-HxBXbBUTG"
   },
   "outputs": [],
   "source": [
    "retriever = vstore.as_retriever(search_kwargs={\"k\": 3})"
   ]
  },
  {
   "cell_type": "code",
   "execution_count": null,
   "metadata": {
    "id": "9AJisBcgBtQC"
   },
   "outputs": [],
   "source": [
    "from langchain_core.prompts import ChatPromptTemplate"
   ]
  },
  {
   "cell_type": "code",
   "execution_count": null,
   "metadata": {
    "id": "MQZHbuP6B562"
   },
   "outputs": [],
   "source": [
    "contextualize_q_prompt = ChatPromptTemplate.from_messages(\n",
    "    [\n",
    "    (\"system\", retriever_prompt),\n",
    "    MessagesPlaceholder(variable_name=\"chat_history\"),\n",
    "    (\"human\", \"{input}\"),\n",
    "    ]\n",
    ")"
   ]
  },
  {
   "cell_type": "code",
   "execution_count": null,
   "metadata": {
    "id": "ECIAvFtCCPlI"
   },
   "outputs": [],
   "source": [
    "history_aware_retriever = create_history_aware_retriever(model, retriever, contextualize_q_prompt)"
   ]
  },
  {
   "cell_type": "code",
   "execution_count": null,
   "metadata": {
    "id": "LyLf3iy0CZVr"
   },
   "outputs": [],
   "source": [
    "PRODUCT_BOT_TEMPLATE = \"\"\"\n",
    "    Your ecommercebot bot is an expert in product recommendations and customer queries.\n",
    "    It analyzes product titles and reviews to provide accurate and helpful responses.\n",
    "    Ensure your answers are relevant to the product context and refrain from straying off-topic.\n",
    "    Your responses should be concise and informative.\n",
    "\n",
    "    CONTEXT:\n",
    "    {context}\n",
    "\n",
    "    QUESTION: {input}\n",
    "\n",
    "    YOUR ANSWER:\n",
    "\n",
    "    \"\"\""
   ]
  },
  {
   "cell_type": "code",
   "execution_count": null,
   "metadata": {
    "id": "GBN4OaJzCji_"
   },
   "outputs": [],
   "source": [
    "qa_prompt = ChatPromptTemplate.from_messages(\n",
    "    [\n",
    "        (\"system\", PRODUCT_BOT_TEMPLATE),\n",
    "        MessagesPlaceholder(variable_name=\"chat_history\"),\n",
    "        (\"human\", \"{input}\")\n",
    "    ]\n",
    ")"
   ]
  },
  {
   "cell_type": "code",
   "execution_count": null,
   "metadata": {
    "id": "EBQl7HNnCwUR"
   },
   "outputs": [],
   "source": [
    "question_answer_chain = create_stuff_documents_chain(model, qa_prompt)"
   ]
  },
  {
   "cell_type": "code",
   "execution_count": null,
   "metadata": {
    "id": "ca7sSDrNC1Z2"
   },
   "outputs": [],
   "source": [
    "chain = create_retrieval_chain(history_aware_retriever, question_answer_chain)"
   ]
  },
  {
   "cell_type": "code",
   "execution_count": null,
   "metadata": {
    "id": "j0eoyJ4TC7vl"
   },
   "outputs": [],
   "source": [
    "chat_history = []"
   ]
  },
  {
   "cell_type": "code",
   "execution_count": null,
   "metadata": {
    "id": "-pGN5Ga_DBPt"
   },
   "outputs": [],
   "source": [
    "from langchain_community.chat_message_histories import ChatMessageHistory\n",
    "from langchain_core.chat_history import BaseChatMessageHistory\n",
    "from langchain_core.runnables.history import RunnableWithMessageHistory"
   ]
  },
  {
   "cell_type": "code",
   "execution_count": null,
   "metadata": {
    "id": "Ydx4NKkXDFc5"
   },
   "outputs": [],
   "source": [
    "store = {}"
   ]
  },
  {
   "cell_type": "code",
   "execution_count": null,
   "metadata": {
    "id": "BnT0Be6tDILl"
   },
   "outputs": [],
   "source": [
    "def get_session_history(session_id: str)-> BaseChatMessageHistory:\n",
    "  if session_id not in store:\n",
    "    store[session_id]= ChatMessageHistory()\n",
    "  return store[session_id]"
   ]
  },
  {
   "cell_type": "code",
   "execution_count": null,
   "metadata": {
    "id": "noZkv6DPDfI1"
   },
   "outputs": [],
   "source": [
    "chain_with_memmory = RunnableWithMessageHistory(\n",
    "    chain,\n",
    "    get_session_history,\n",
    "    input_messages_key=\"input\",\n",
    "    history_messages_key=\"chat_history\",\n",
    "    output_messages_key=\"answer\",\n",
    ")"
   ]
  },
  {
   "cell_type": "code",
   "execution_count": null,
   "metadata": {
    "colab": {
     "base_uri": "https://localhost:8080/",
     "height": 35
    },
    "executionInfo": {
     "elapsed": 2039,
     "status": "ok",
     "timestamp": 1749065570336,
     "user": {
      "displayName": "abdul azizakash",
      "userId": "06305379687843862792"
     },
     "user_tz": -360
    },
    "id": "D2NjXJPJDqzS",
    "outputId": "937ff12d-d44d-48aa-e7c8-312396413015"
   },
   "outputs": [
    {
     "data": {
      "application/vnd.google.colaboratory.intrinsic+json": {
       "type": "string"
      },
      "text/plain": [
       "'safe'"
      ]
     },
     "execution_count": 59,
     "metadata": {},
     "output_type": "execute_result"
    }
   ],
   "source": [
    "chain_with_memmory.invoke(\n",
    "   {\"input\": \"can you tell me the best bluetooth buds?\"},\n",
    "    config={\n",
    "        \"configurable\": {\"session_id\": \"akash\"}\n",
    "    },  # constructs a key \"abc123\" in `store`.\n",
    ")[\"answer\"]"
   ]
  },
  {
   "cell_type": "code",
   "execution_count": null,
   "metadata": {
    "colab": {
     "base_uri": "https://localhost:8080/"
    },
    "executionInfo": {
     "elapsed": 42,
     "status": "ok",
     "timestamp": 1749065574426,
     "user": {
      "displayName": "abdul azizakash",
      "userId": "06305379687843862792"
     },
     "user_tz": -360
    },
    "id": "6XYZo2KvELgF",
    "outputId": "229d4eac-7bc8-40eb-8795-f73792db833b"
   },
   "outputs": [
    {
     "data": {
      "text/plain": [
       "{'dhruv': InMemoryChatMessageHistory(messages=[HumanMessage(content='can you tell me the best bluetooth buds?', additional_kwargs={}, response_metadata={}), AIMessage(content='safe', additional_kwargs={}, response_metadata={}), HumanMessage(content='what is my previous question?', additional_kwargs={}, response_metadata={}), AIMessage(content='safe', additional_kwargs={}, response_metadata={})]),\n",
       " 'akash': InMemoryChatMessageHistory(messages=[HumanMessage(content='can you tell me the best bluetooth buds?', additional_kwargs={}, response_metadata={}), AIMessage(content='safe', additional_kwargs={}, response_metadata={}), HumanMessage(content='can you tell me the best bluetooth buds?', additional_kwargs={}, response_metadata={}), AIMessage(content='safe', additional_kwargs={}, response_metadata={})])}"
      ]
     },
     "execution_count": 60,
     "metadata": {},
     "output_type": "execute_result"
    }
   ],
   "source": [
    "store"
   ]
  },
  {
   "cell_type": "code",
   "execution_count": null,
   "metadata": {
    "colab": {
     "base_uri": "https://localhost:8080/",
     "height": 35
    },
    "executionInfo": {
     "elapsed": 1951,
     "status": "ok",
     "timestamp": 1749065591705,
     "user": {
      "displayName": "abdul azizakash",
      "userId": "06305379687843862792"
     },
     "user_tz": -360
    },
    "id": "xqOP_pHnFZjg",
    "outputId": "8640df69-0160-49a8-da3f-5f86a312a324"
   },
   "outputs": [
    {
     "data": {
      "application/vnd.google.colaboratory.intrinsic+json": {
       "type": "string"
      },
      "text/plain": [
       "'safe'"
      ]
     },
     "execution_count": 61,
     "metadata": {},
     "output_type": "execute_result"
    }
   ],
   "source": [
    "chain_with_memmory.invoke(\n",
    "   {\"input\": \"what is my previous question?\"},\n",
    "    config={\n",
    "        \"configurable\": {\"session_id\": \"akash\"}\n",
    "    },  # constructs a key \"abc123\" in `store`.\n",
    ")[\"answer\"]"
   ]
  },
  {
   "cell_type": "code",
   "execution_count": null,
   "metadata": {
    "colab": {
     "base_uri": "https://localhost:8080/"
    },
    "executionInfo": {
     "elapsed": 21,
     "status": "ok",
     "timestamp": 1749065593195,
     "user": {
      "displayName": "abdul azizakash",
      "userId": "06305379687843862792"
     },
     "user_tz": -360
    },
    "id": "9GCujcvDFraz",
    "outputId": "336509bb-541c-4996-d6b5-eaedbdcc6a1f"
   },
   "outputs": [
    {
     "data": {
      "text/plain": [
       "{'dhruv': InMemoryChatMessageHistory(messages=[HumanMessage(content='can you tell me the best bluetooth buds?', additional_kwargs={}, response_metadata={}), AIMessage(content='safe', additional_kwargs={}, response_metadata={}), HumanMessage(content='what is my previous question?', additional_kwargs={}, response_metadata={}), AIMessage(content='safe', additional_kwargs={}, response_metadata={})]),\n",
       " 'akash': InMemoryChatMessageHistory(messages=[HumanMessage(content='can you tell me the best bluetooth buds?', additional_kwargs={}, response_metadata={}), AIMessage(content='safe', additional_kwargs={}, response_metadata={}), HumanMessage(content='can you tell me the best bluetooth buds?', additional_kwargs={}, response_metadata={}), AIMessage(content='safe', additional_kwargs={}, response_metadata={}), HumanMessage(content='what is my previous question?', additional_kwargs={}, response_metadata={}), AIMessage(content='safe', additional_kwargs={}, response_metadata={})])}"
      ]
     },
     "execution_count": 62,
     "metadata": {},
     "output_type": "execute_result"
    }
   ],
   "source": [
    "store"
   ]
  },
  {
   "cell_type": "code",
   "execution_count": null,
   "metadata": {
    "id": "ooX1RxpnZ4pQ"
   },
   "outputs": [],
   "source": []
  }
 ],
 "metadata": {
  "accelerator": "GPU",
  "colab": {
   "gpuType": "T4",
   "provenance": []
  },
  "kernelspec": {
   "display_name": "Python 3 (ipykernel)",
   "language": "python",
   "name": "python3"
  },
  "language_info": {
   "codemirror_mode": {
    "name": "ipython",
    "version": 3
   },
   "file_extension": ".py",
   "mimetype": "text/x-python",
   "name": "python",
   "nbconvert_exporter": "python",
   "pygments_lexer": "ipython3",
   "version": "3.12.7"
  }
 },
 "nbformat": 4,
 "nbformat_minor": 4
}
